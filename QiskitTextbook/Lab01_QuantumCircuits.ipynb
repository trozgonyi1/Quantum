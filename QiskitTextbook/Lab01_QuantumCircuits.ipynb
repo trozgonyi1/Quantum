{
 "cells": [
  {
   "cell_type": "markdown",
   "metadata": {
    "tags": [
     "remove_cell"
    ]
   },
   "source": [
    "<h1 style=\"font-size:35px;\n",
    "        color:black;\n",
    "        \">Lab 1 Quantum Circuits</h1>"
   ]
  },
  {
   "cell_type": "markdown",
   "metadata": {},
   "source": [
    "Prerequisite\n",
    "- [Qiskit basics](https://qiskit.org/documentation/tutorials/circuits/1_getting_started_with_qiskit.html)\n",
    "- [Ch.1.2 The Atoms of Computation](https://qiskit.org/textbook/ch-states/atoms-computation.html)\n",
    "\n",
    "Other relevant materials\n",
    "- [Access IBM Quantum Systems](https://qiskit.org/documentation/install.html#access-ibm-quantum-systems)\n",
    "- [IBM Quantum Systems Configuration](https://quantum-computing.ibm.com/docs/manage/backends/configuration)\n",
    "- [Transpile](https://qiskit.org/documentation/apidoc/transpiler.html)\n",
    "- [IBM Quantum account](https://quantum-computing.ibm.com/docs/manage/account/ibmq)\n",
    "- [Quantum Circuits](https://qiskit.org/documentation/apidoc/circuit.html)  "
   ]
  },
  {
   "cell_type": "code",
   "execution_count": 1,
   "metadata": {},
   "outputs": [
    {
     "ename": "ModuleNotFoundError",
     "evalue": "No module named 'qiskit'",
     "output_type": "error",
     "traceback": [
      "\u001b[0;31m---------------------------------------------------------------------------\u001b[0m",
      "\u001b[0;31mModuleNotFoundError\u001b[0m                       Traceback (most recent call last)",
      "\u001b[0;32m/var/folders/3v/73pck5hx1q754g5mldb047680000gn/T/ipykernel_8040/1257258448.py\u001b[0m in \u001b[0;36m<module>\u001b[0;34m\u001b[0m\n\u001b[0;32m----> 1\u001b[0;31m \u001b[0;32mfrom\u001b[0m \u001b[0mqiskit\u001b[0m \u001b[0;32mimport\u001b[0m \u001b[0;34m*\u001b[0m\u001b[0;34m\u001b[0m\u001b[0;34m\u001b[0m\u001b[0m\n\u001b[0m\u001b[1;32m      2\u001b[0m \u001b[0;32mfrom\u001b[0m \u001b[0mqiskit\u001b[0m\u001b[0;34m.\u001b[0m\u001b[0mvisualization\u001b[0m \u001b[0;32mimport\u001b[0m \u001b[0mplot_histogram\u001b[0m\u001b[0;34m\u001b[0m\u001b[0;34m\u001b[0m\u001b[0m\n\u001b[1;32m      3\u001b[0m \u001b[0;32mimport\u001b[0m \u001b[0mnumpy\u001b[0m \u001b[0;32mas\u001b[0m \u001b[0mnp\u001b[0m\u001b[0;34m\u001b[0m\u001b[0;34m\u001b[0m\u001b[0m\n",
      "\u001b[0;31mModuleNotFoundError\u001b[0m: No module named 'qiskit'"
     ]
    }
   ],
   "source": [
    "from qiskit import *\n",
    "from qiskit.visualization import plot_histogram\n",
    "import numpy as np"
   ]
  },
  {
   "cell_type": "markdown",
   "metadata": {},
   "source": [
    "<h2 style=\"font-size:24px;\">Part 1: Classical logic gates with quantum circuits</h2>\n",
    "\n",
    "<br>\n",
    "<div style=\"background: #E8E7EB; border-radius: 5px;\n",
    "-moz-border-radius: 5px;\">\n",
    "  <p style=\"background: #800080;\n",
    "            border-radius: 5px 5px 0px 0px;\n",
    "            padding: 10px 0px 10px 10px;\n",
    "            font-size:18px;\n",
    "            color:white;\n",
    "            \"><b>Goal</b></p>\n",
    "    <p style=\" padding: 0px 0px 10px 10px;\n",
    "              font-size:16px;\">Create quantum circuit functions that can compute the XOR, AND, NAND and OR gates using the NOT gate (expressed as x in Qiskit), the CNOT gate (expressed as cx in Qiskit) and the Toffoli gate (expressed as ccx in Qiskit) .</p>\n",
    "</div>\n",
    "\n",
    "An implementation of the `NOT` gate is provided as an example."
   ]
  },
  {
   "cell_type": "code",
   "execution_count": 2,
   "metadata": {},
   "outputs": [],
   "source": [
    "def NOT(inp):\n",
    "    \"\"\"An NOT gate.\n",
    "    \n",
    "    Parameters:\n",
    "        inp (str): Input, encoded in qubit 0.\n",
    "        \n",
    "    Returns:\n",
    "        QuantumCircuit: Output NOT circuit.\n",
    "        str: Output value measured from qubit 0.\n",
    "    \"\"\"\n",
    "\n",
    "    qc = QuantumCircuit(1, 1) # A quantum circuit with a single qubit and a single classical bit\n",
    "    qc.reset(0)\n",
    "    \n",
    "    # We encode '0' as the qubit state |0⟩, and '1' as |1⟩\n",
    "    # Since the qubit is initially |0⟩, we don't need to do anything for an input of '0'\n",
    "    # For an input of '1', we do an x to rotate the |0⟩ to |1⟩\n",
    "    if inp=='1':\n",
    "        qc.x(0)\n",
    "        \n",
    "    # barrier between input state and gate operation \n",
    "    qc.barrier()\n",
    "    \n",
    "    # Now we've encoded the input, we can do a NOT on it using x\n",
    "    qc.x(0)\n",
    "    \n",
    "    #barrier between gate operation and measurement\n",
    "    qc.barrier()\n",
    "    \n",
    "    # Finally, we extract the |0⟩/|1⟩ output of the qubit and encode it in the bit c[0]\n",
    "    qc.measure(0,0)\n",
    "    qc.draw('mpl')\n",
    "    \n",
    "    # We'll run the program on a simulator\n",
    "    backend = Aer.get_backend('aer_simulator')\n",
    "    # Since the output will be deterministic, we can use just a single shot to get it\n",
    "    job = backend.run(qc, shots=1, memory=True)\n",
    "    output = job.result().get_memory()[0]\n",
    "    \n",
    "    return qc, output"
   ]
  },
  {
   "cell_type": "code",
   "execution_count": 3,
   "metadata": {},
   "outputs": [
    {
     "name": "stderr",
     "output_type": "stream",
     "text": [
      "<frozen importlib._bootstrap>:219: RuntimeWarning: scipy._lib.messagestream.MessageStream size changed, may indicate binary incompatibility. Expected 56 from C header, got 64 from PyObject\n"
     ]
    },
    {
     "name": "stdout",
     "output_type": "stream",
     "text": [
      "NOT with input 0 gives output 1\n"
     ]
    },
    {
     "data": {
      "image/png": "[encoded data removed]",
      "text/plain": [
       "<Figure size 374.326x144.48 with 1 Axes>"
      ]
     },
     "metadata": {},
     "output_type": "display_data"
    },
    {
     "name": "stdout",
     "output_type": "stream",
     "text": [
      "\n",
      "\n",
      "NOT with input 1 gives output 0\n"
     ]
    },
    {
     "data": {
      "image/png": "[encoded data removed]",
      "text/plain": [
       "<Figure size 434.526x144.48 with 1 Axes>"
      ]
     },
     "metadata": {},
     "output_type": "display_data"
    },
    {
     "name": "stdout",
     "output_type": "stream",
     "text": [
      "\n",
      "\n"
     ]
    }
   ],
   "source": [
    "## Test the function\n",
    "for inp in ['0', '1']:\n",
    "    qc, out = NOT(inp)\n",
    "    print('NOT with input',inp,'gives output',out)\n",
    "    display(qc.draw())\n",
    "    print('\\n')"
   ]
  },
  {
   "cell_type": "markdown",
   "metadata": {},
   "source": [
    "<h3 style=\"font-size: 20px\">&#128211; XOR gate</h3>\n",
    "\n",
    "Takes two binary strings as input and gives one as output.\n",
    "\n",
    "The output is '0' when the inputs are equal and  '1' otherwise."
   ]
  },
  {
   "cell_type": "code",
   "execution_count": 8,
   "metadata": {},
   "outputs": [],
   "source": [
    "def XOR(inp1,inp2):\n",
    "    \"\"\"An XOR gate.\n",
    "    \n",
    "    Parameters:\n",
    "        inpt1 (str): Input 1, encoded in qubit 0.\n",
    "        inpt2 (str): Input 2, encoded in qubit 1.\n",
    "        \n",
    "    Returns:\n",
    "        QuantumCircuit: Output XOR circuit.\n",
    "        str: Output value measured from qubit 1.\n",
    "    \"\"\"\n",
    "  \n",
    "    qc = QuantumCircuit(2, 1) \n",
    "    qc.reset(range(2))\n",
    "    \n",
    "    if inp1=='1':\n",
    "        qc.x(0)\n",
    "    if inp2=='1':\n",
    "        qc.x(1)\n",
    "    \n",
    "    # barrier between input state and gate operation \n",
    "    qc.barrier()\n",
    "    \n",
    "    # this is where your program for quantum XOR gate goes\n",
    "    \n",
    "    \n",
    "    qc.cx(0,1)\n",
    "    \n",
    "    \n",
    "    \n",
    "    \n",
    "    \n",
    "    # barrier between input state and gate operation \n",
    "    qc.barrier()\n",
    "    \n",
    "    qc.measure(1,0) # output from qubit 1 is measured\n",
    "  \n",
    "    #We'll run the program on a simulator\n",
    "    backend = Aer.get_backend('aer_simulator')\n",
    "    #Since the output will be deterministic, we can use just a single shot to get it\n",
    "    job = backend.run(qc, shots=1, memory=True)\n",
    "    output = job.result().get_memory()[0]\n",
    "  \n",
    "    return qc, output"
   ]
  },
  {
   "cell_type": "code",
   "execution_count": 9,
   "metadata": {},
   "outputs": [
    {
     "name": "stdout",
     "output_type": "stream",
     "text": [
      "XOR with inputs 0 0 gives output 0\n"
     ]
    },
    {
     "data": {
      "image/png": "[encoded data removed]",
      "text/plain": [
       "<Figure size 387.452x204.68 with 1 Axes>"
      ]
     },
     "metadata": {},
     "output_type": "display_data"
    },
    {
     "name": "stdout",
     "output_type": "stream",
     "text": [
      "\n",
      "\n",
      "XOR with inputs 0 1 gives output 1\n"
     ]
    },
    {
     "data": {
      "image/png": "[encoded data removed]",
      "text/plain": [
       "<Figure size 447.652x204.68 with 1 Axes>"
      ]
     },
     "metadata": {},
     "output_type": "display_data"
    },
    {
     "name": "stdout",
     "output_type": "stream",
     "text": [
      "\n",
      "\n",
      "XOR with inputs 1 0 gives output 1\n"
     ]
    },
    {
     "data": {
      "image/png": "[encoded data removed]",
      "text/plain": [
       "<Figure size 447.652x204.68 with 1 Axes>"
      ]
     },
     "metadata": {},
     "output_type": "display_data"
    },
    {
     "name": "stdout",
     "output_type": "stream",
     "text": [
      "\n",
      "\n",
      "XOR with inputs 1 1 gives output 0\n"
     ]
    },
    {
     "data": {
      "image/png": "[encoded data removed]",
      "text/plain": [
       "<Figure size 447.652x204.68 with 1 Axes>"
      ]
     },
     "metadata": {},
     "output_type": "display_data"
    },
    {
     "name": "stdout",
     "output_type": "stream",
     "text": [
      "\n",
      "\n"
     ]
    }
   ],
   "source": [
    "## Test the function\n",
    "for inp1 in ['0', '1']:\n",
    "    for inp2 in ['0', '1']:\n",
    "        qc, output = XOR(inp1, inp2)\n",
    "        print('XOR with inputs',inp1,inp2,'gives output',output)\n",
    "        display(qc.draw())\n",
    "        print('\\n')"
   ]
  },
  {
   "cell_type": "markdown",
   "metadata": {},
   "source": [
    "<h3 style=\"font-size: 20px\">&#128211; AND gate</h3>\n",
    "\n",
    "Takes two binary strings as input and gives one as output.\n",
    "\n",
    "The output is `'1'` only when both the inputs are `'1'`."
   ]
  },
  {
   "cell_type": "code",
   "execution_count": 10,
   "metadata": {},
   "outputs": [],
   "source": [
    "def AND(inp1,inp2):\n",
    "    \"\"\"An AND gate.\n",
    "    \n",
    "    Parameters:\n",
    "        inpt1 (str): Input 1, encoded in qubit 0.\n",
    "        inpt2 (str): Input 2, encoded in qubit 1.\n",
    "        \n",
    "    Returns:\n",
    "        QuantumCircuit: Output XOR circuit.\n",
    "        str: Output value measured from qubit 2.\n",
    "    \"\"\"\n",
    "    qc = QuantumCircuit(3, 1) \n",
    "    qc.reset(range(2))\n",
    "  \n",
    "    if inp1=='1':\n",
    "        qc.x(0)\n",
    "    if inp2=='1':\n",
    "        qc.x(1)\n",
    "        \n",
    "    qc.barrier()\n",
    "\n",
    "    # this is where your program for quantum AND gate goes\n",
    "\n",
    "    \n",
    "    qc.ccx(0,1,2)\n",
    "    \n",
    "    \n",
    "    \n",
    "\n",
    "    qc.barrier()\n",
    "    qc.measure(2, 0) # output from qubit 2 is measured\n",
    "  \n",
    "    # We'll run the program on a simulator\n",
    "    backend = Aer.get_backend('aer_simulator')\n",
    "    # Since the output will be deterministic, we can use just a single shot to get it\n",
    "    job = backend.run(qc, shots=1, memory=True)\n",
    "    output = job.result().get_memory()[0]\n",
    "  \n",
    "    return qc, output"
   ]
  },
  {
   "cell_type": "code",
   "execution_count": 11,
   "metadata": {},
   "outputs": [
    {
     "name": "stdout",
     "output_type": "stream",
     "text": [
      "AND with inputs 0 0 gives output 0\n"
     ]
    },
    {
     "data": {
      "image/png": "[encoded data removed]",
      "text/plain": [
       "<Figure size 387.597x264.88 with 1 Axes>"
      ]
     },
     "metadata": {},
     "output_type": "display_data"
    },
    {
     "name": "stdout",
     "output_type": "stream",
     "text": [
      "\n",
      "\n",
      "AND with inputs 0 1 gives output 0\n"
     ]
    },
    {
     "data": {
      "image/png": "[encoded data removed]",
      "text/plain": [
       "<Figure size 447.797x264.88 with 1 Axes>"
      ]
     },
     "metadata": {},
     "output_type": "display_data"
    },
    {
     "name": "stdout",
     "output_type": "stream",
     "text": [
      "\n",
      "\n",
      "AND with inputs 1 0 gives output 0\n"
     ]
    },
    {
     "data": {
      "image/png": "[encoded data removed]",
      "text/plain": [
       "<Figure size 447.797x264.88 with 1 Axes>"
      ]
     },
     "metadata": {},
     "output_type": "display_data"
    },
    {
     "name": "stdout",
     "output_type": "stream",
     "text": [
      "\n",
      "\n",
      "AND with inputs 1 1 gives output 1\n"
     ]
    },
    {
     "data": {
      "image/png": "[encoded data removed]",
      "text/plain": [
       "<Figure size 447.797x264.88 with 1 Axes>"
      ]
     },
     "metadata": {},
     "output_type": "display_data"
    },
    {
     "name": "stdout",
     "output_type": "stream",
     "text": [
      "\n",
      "\n"
     ]
    }
   ],
   "source": [
    "## Test the function\n",
    "for inp1 in ['0', '1']:\n",
    "    for inp2 in ['0', '1']:\n",
    "        qc, output = AND(inp1, inp2)\n",
    "        print('AND with inputs',inp1,inp2,'gives output',output)\n",
    "        display(qc.draw())\n",
    "        print('\\n')"
   ]
  },
  {
   "cell_type": "markdown",
   "metadata": {},
   "source": [
    "<h3 style=\"font-size: 20px\">&#128211; NAND gate</h3>\n",
    "\n",
    "Takes two binary strings as input and gives one as output.\n",
    "\n",
    "The output is `'0'` only when both the inputs are `'1'`."
   ]
  },
  {
   "cell_type": "code",
   "execution_count": 12,
   "metadata": {},
   "outputs": [],
   "source": [
    "def NAND(inp1,inp2):\n",
    "    \"\"\"An NAND gate.\n",
    "    \n",
    "    Parameters:\n",
    "        inpt1 (str): Input 1, encoded in qubit 0.\n",
    "        inpt2 (str): Input 2, encoded in qubit 1.\n",
    "        \n",
    "    Returns:\n",
    "        QuantumCircuit: Output NAND circuit.\n",
    "        str: Output value measured from qubit 2.\n",
    "    \"\"\"\n",
    "    qc = QuantumCircuit(3, 1) \n",
    "    qc.reset(range(3))\n",
    "    \n",
    "    if inp1=='1':\n",
    "        qc.x(0)\n",
    "    if inp2=='1':\n",
    "        qc.x(1)\n",
    "    \n",
    "    qc.barrier()\n",
    "    \n",
    "    # this is where your program for quantum NAND gate goes\n",
    "\n",
    "\n",
    "    qc.ccx(0,1,2)\n",
    "    qc.x(2)\n",
    "    \n",
    "    \n",
    "    \n",
    "    qc.barrier()\n",
    "    qc.measure(2, 0) # output from qubit 2 is measured\n",
    "  \n",
    "    # We'll run the program on a simulator\n",
    "    backend = Aer.get_backend('aer_simulator')\n",
    "    # Since the output will be deterministic, we can use just a single shot to get it\n",
    "    job = backend.run(qc,shots=1,memory=True)\n",
    "    output = job.result().get_memory()[0]\n",
    "  \n",
    "    return qc, output"
   ]
  },
  {
   "cell_type": "code",
   "execution_count": 13,
   "metadata": {},
   "outputs": [
    {
     "name": "stdout",
     "output_type": "stream",
     "text": [
      "NAND with inputs 0 0 gives output 1\n"
     ]
    },
    {
     "data": {
      "image/png": "[encoded data removed]",
      "text/plain": [
       "<Figure size 447.797x264.88 with 1 Axes>"
      ]
     },
     "metadata": {},
     "output_type": "display_data"
    },
    {
     "name": "stdout",
     "output_type": "stream",
     "text": [
      "\n",
      "\n",
      "NAND with inputs 0 1 gives output 1\n"
     ]
    },
    {
     "data": {
      "image/png": "[encoded data removed]",
      "text/plain": [
       "<Figure size 507.997x264.88 with 1 Axes>"
      ]
     },
     "metadata": {},
     "output_type": "display_data"
    },
    {
     "name": "stdout",
     "output_type": "stream",
     "text": [
      "\n",
      "\n",
      "NAND with inputs 1 0 gives output 1\n"
     ]
    },
    {
     "data": {
      "image/png": "[encoded data removed]",
      "text/plain": [
       "<Figure size 507.997x264.88 with 1 Axes>"
      ]
     },
     "metadata": {},
     "output_type": "display_data"
    },
    {
     "name": "stdout",
     "output_type": "stream",
     "text": [
      "\n",
      "\n",
      "NAND with inputs 1 1 gives output 0\n"
     ]
    },
    {
     "data": {
      "image/png": "[encoded data removed]",
      "text/plain": [
       "<Figure size 507.997x264.88 with 1 Axes>"
      ]
     },
     "metadata": {},
     "output_type": "display_data"
    },
    {
     "name": "stdout",
     "output_type": "stream",
     "text": [
      "\n",
      "\n"
     ]
    }
   ],
   "source": [
    "## Test the function\n",
    "for inp1 in ['0', '1']:\n",
    "    for inp2 in ['0', '1']:\n",
    "        qc, output = NAND(inp1, inp2)\n",
    "        print('NAND with inputs',inp1,inp2,'gives output',output)\n",
    "        display(qc.draw())\n",
    "        print('\\n')"
   ]
  },
  {
   "cell_type": "markdown",
   "metadata": {},
   "source": [
    "<h3 style=\"font-size: 20px\">&#128211; OR gate</h3>\n",
    "\n",
    "Takes two binary strings as input and gives one as output.\n",
    "\n",
    "The output is '1' if either input is '1'."
   ]
  },
  {
   "cell_type": "code",
   "execution_count": 14,
   "metadata": {},
   "outputs": [],
   "source": [
    "def OR(inp1,inp2):\n",
    "    \"\"\"An OR gate.\n",
    "    \n",
    "    Parameters:\n",
    "        inpt1 (str): Input 1, encoded in qubit 0.\n",
    "        inpt2 (str): Input 2, encoded in qubit 1.\n",
    "        \n",
    "    Returns:\n",
    "        QuantumCircuit: Output XOR circuit.\n",
    "        str: Output value measured from qubit 2.\n",
    "    \"\"\"\n",
    "\n",
    "    qc = QuantumCircuit(3, 1) \n",
    "    qc.reset(range(3))\n",
    "    \n",
    "    if inp1=='1':\n",
    "        qc.x(0)\n",
    "    if inp2=='1':\n",
    "        qc.x(1)\n",
    "    \n",
    "    qc.barrier()\n",
    "   \n",
    "    # this is where your program for quantum OR gate goes\n",
    "\n",
    "\n",
    "    qc.cx(0,2)\n",
    "    qc.cx(1,2)\n",
    "    qc.ccx(0,1,2)\n",
    "    \n",
    "    \n",
    "    qc.barrier()\n",
    "    qc.measure(2, 0) # output from qubit 2 is measured\n",
    "  \n",
    "    # We'll run the program on a simulator\n",
    "    backend = Aer.get_backend('aer_simulator')\n",
    "    # Since the output will be deterministic, we can use just a single shot to get it\n",
    "    job = backend.run(qc,shots=1,memory=True)\n",
    "    output = job.result().get_memory()[0]\n",
    "  \n",
    "    return qc, output"
   ]
  },
  {
   "cell_type": "code",
   "execution_count": 15,
   "metadata": {},
   "outputs": [
    {
     "name": "stdout",
     "output_type": "stream",
     "text": [
      "OR with inputs 0 0 gives output 0\n"
     ]
    },
    {
     "data": {
      "image/png": "[encoded data removed]",
      "text/plain": [
       "<Figure size 507.997x264.88 with 1 Axes>"
      ]
     },
     "metadata": {},
     "output_type": "display_data"
    },
    {
     "name": "stdout",
     "output_type": "stream",
     "text": [
      "\n",
      "\n",
      "OR with inputs 0 1 gives output 1\n"
     ]
    },
    {
     "data": {
      "image/png": "[encoded data removed]",
      "text/plain": [
       "<Figure size 568.197x264.88 with 1 Axes>"
      ]
     },
     "metadata": {},
     "output_type": "display_data"
    },
    {
     "name": "stdout",
     "output_type": "stream",
     "text": [
      "\n",
      "\n",
      "OR with inputs 1 0 gives output 1\n"
     ]
    },
    {
     "data": {
      "image/png": "[encoded data removed]",
      "text/plain": [
       "<Figure size 568.197x264.88 with 1 Axes>"
      ]
     },
     "metadata": {},
     "output_type": "display_data"
    },
    {
     "name": "stdout",
     "output_type": "stream",
     "text": [
      "\n",
      "\n",
      "OR with inputs 1 1 gives output 1\n"
     ]
    },
    {
     "data": {
      "image/png": "[encoded data removed]",
      "text/plain": [
       "<Figure size 568.197x264.88 with 1 Axes>"
      ]
     },
     "metadata": {},
     "output_type": "display_data"
    },
    {
     "name": "stdout",
     "output_type": "stream",
     "text": [
      "\n",
      "\n"
     ]
    }
   ],
   "source": [
    "## Test the function\n",
    "for inp1 in ['0', '1']:\n",
    "    for inp2 in ['0', '1']:\n",
    "        qc, output = OR(inp1, inp2)\n",
    "        print('OR with inputs',inp1,inp2,'gives output',output)\n",
    "        display(qc.draw())\n",
    "        print('\\n')"
   ]
  },
  {
   "cell_type": "markdown",
   "metadata": {},
   "source": [
    "<h2 style=\"font-size:24px;\">Part 2: AND gate on Quantum Computer</h2>\n",
    "<br>\n",
    "<div style=\"background: #E8E7EB; border-radius: 5px;\n",
    "-moz-border-radius: 5px;\">\n",
    "  <p style=\"background: #800080;\n",
    "            border-radius: 5px 5px 0px 0px;\n",
    "            padding: 10px 0px 10px 10px;\n",
    "            font-size:18px;\n",
    "            color:white;\n",
    "            \"><b>Goal</b></p>\n",
    "    <p style=\" padding: 0px 0px 10px 10px;\n",
    "              font-size:16px;\">Execute AND gate on a real quantum system and learn how the noise properties affect the result.</p>\n",
    "</div>\n",
    "\n",
    "In Part 1 you made an `AND` gate from quantum gates, and executed it on the simulator.  Here in Part 2 you will do it again, but instead run the circuits on a real quantum computer.  When using a real quantum system, one thing you should keep in mind is that present day quantum computers are not fault tolerant; they are noisy.\n",
    "\n",
    "The 'noise' in a quantum system is the collective effects of all the things that should not happen, but nevertheless do. Noise results in outputs are not always what we would expect. There is noise associated with all processes in a quantum circuit: preparing the initial state, applying gates, and qubit measurement.  For the gates, noise levels can vary between different gates and between different qubits. `cx` gates are typically more noisy than any single qubit gate.\n",
    "\n",
    "Here we will use the quantum systems from the IBM Quantum Experience.  If you do not have access, you can do so [here](https://qiskit.org/documentation/install.html#access-ibm-quantum-systems).\n",
    "\n",
    "Now that you are ready to use the real quantum computer, let's begin."
   ]
  },
  {
   "cell_type": "markdown",
   "metadata": {},
   "source": [
    "<h3 style=\"font-size: 20px\">Step 1. Choosing a device</h3>"
   ]
  },
  {
   "cell_type": "markdown",
   "metadata": {},
   "source": [
    "First load the account from the credentials saved on disk by running the following cell:"
   ]
  },
  {
   "cell_type": "code",
   "execution_count": 16,
   "metadata": {
    "tags": [
     "uses-hardware"
    ]
   },
   "outputs": [
    {
     "data": {
      "text/plain": [
       "<AccountProvider for IBMQ(hub='ibm-q', group='open', project='main')>"
      ]
     },
     "execution_count": 16,
     "metadata": {},
     "output_type": "execute_result"
    }
   ],
   "source": [
    "IBMQ.load_account()"
   ]
  },
  {
   "cell_type": "markdown",
   "metadata": {},
   "source": [
    "After your account is loaded, you can see the list of providers that you have access to by running the cell below. Each provider offers different systems for use. For open users, there is typically only one provider `ibm-q/open/main`:"
   ]
  },
  {
   "cell_type": "code",
   "execution_count": 17,
   "metadata": {
    "tags": [
     "uses-hardware"
    ]
   },
   "outputs": [
    {
     "data": {
      "text/plain": [
       "[<AccountProvider for IBMQ(hub='ibm-q', group='open', project='main')>]"
      ]
     },
     "execution_count": 17,
     "metadata": {},
     "output_type": "execute_result"
    }
   ],
   "source": [
    "IBMQ.providers()"
   ]
  },
  {
   "cell_type": "markdown",
   "metadata": {},
   "source": [
    "Let us grab the provider using `get_provider`.  The command, `provider.backends( )` shows you the list of backends that are available to you from the selected provider."
   ]
  },
  {
   "cell_type": "code",
   "execution_count": 18,
   "metadata": {
    "tags": [
     "uses-hardware"
    ]
   },
   "outputs": [
    {
     "data": {
      "text/plain": [
       "[<IBMQSimulator('ibmq_qasm_simulator') from IBMQ(hub='ibm-q', group='open', project='main')>,\n",
       " <IBMQBackend('ibmq_lima') from IBMQ(hub='ibm-q', group='open', project='main')>,\n",
       " <IBMQBackend('ibmq_belem') from IBMQ(hub='ibm-q', group='open', project='main')>,\n",
       " <IBMQBackend('ibmq_quito') from IBMQ(hub='ibm-q', group='open', project='main')>,\n",
       " <IBMQSimulator('simulator_statevector') from IBMQ(hub='ibm-q', group='open', project='main')>,\n",
       " <IBMQSimulator('simulator_mps') from IBMQ(hub='ibm-q', group='open', project='main')>,\n",
       " <IBMQSimulator('simulator_extended_stabilizer') from IBMQ(hub='ibm-q', group='open', project='main')>,\n",
       " <IBMQSimulator('simulator_stabilizer') from IBMQ(hub='ibm-q', group='open', project='main')>,\n",
       " <IBMQBackend('ibmq_manila') from IBMQ(hub='ibm-q', group='open', project='main')>,\n",
       " <IBMQBackend('ibm_nairobi') from IBMQ(hub='ibm-q', group='open', project='main')>,\n",
       " <IBMQBackend('ibm_oslo') from IBMQ(hub='ibm-q', group='open', project='main')>]"
      ]
     },
     "execution_count": 18,
     "metadata": {},
     "output_type": "execute_result"
    }
   ],
   "source": [
    "provider = IBMQ.get_provider('ibm-q')\n",
    "provider.backends()"
   ]
  },
  {
   "cell_type": "markdown",
   "metadata": {},
   "source": [
    "Among these options, you may pick one of the systems to run your circuits on.  All except the `ibmq_qasm_simulator` all are real quantum computers that you can use.  The differences among these systems resides in the number of qubits, their connectivity, and the system error rates.  \n",
    "\n",
    "Upon executing the following cell you will be presented with a widget that displays all of the information about your choice of the backend.  You can obtain information that you need by clicking on the tabs. For example, backend status, number of qubits and the connectivity are under `configuration` tab, where as the `Error Map` tab will reveal the latest noise information for the system. "
   ]
  },
  {
   "cell_type": "code",
   "execution_count": 20,
   "metadata": {
    "tags": [
     "uses-hardware"
    ]
   },
   "outputs": [
    {
     "data": {
      "application/vnd.jupyter.widget-view+json": {
       "model_id": "0c7c0880a4ed481693712f8f5c0787dc",
       "version_major": 2,
       "version_minor": 0
      },
      "text/plain": [
       "VBox(children=(HTML(value=\"<h1 style='color:#ffffff;background-color:#000000;padding-top: 1%;padding-bottom: 1…"
      ]
     },
     "metadata": {},
     "output_type": "display_data"
    },
    {
     "data": {
      "text/plain": [
       "<IBMQBackend('ibmq_lima') from IBMQ(hub='ibm-q', group='open', project='main')>"
      ]
     },
     "execution_count": 20,
     "metadata": {},
     "output_type": "execute_result"
    }
   ],
   "source": [
    "import qiskit.tools.jupyter\n",
    "\n",
    "backend_ex = provider.get_backend('ibmq_lima')\n",
    "backend_ex"
   ]
  },
  {
   "cell_type": "markdown",
   "metadata": {},
   "source": [
    "For our AND gate circuit, we need a backend with three or more qubits, which is true for all the real systems except for `ibmq_armonk`.  Below is an example of how to filter backends, where we filter for number of qubits, and remove simulators:"
   ]
  },
  {
   "cell_type": "code",
   "execution_count": 21,
   "metadata": {
    "tags": [
     "uses-hardware"
    ]
   },
   "outputs": [
    {
     "data": {
      "text/plain": [
       "[<IBMQBackend('ibmq_lima') from IBMQ(hub='ibm-q', group='open', project='main')>,\n",
       " <IBMQBackend('ibmq_belem') from IBMQ(hub='ibm-q', group='open', project='main')>,\n",
       " <IBMQBackend('ibmq_quito') from IBMQ(hub='ibm-q', group='open', project='main')>,\n",
       " <IBMQBackend('ibmq_manila') from IBMQ(hub='ibm-q', group='open', project='main')>,\n",
       " <IBMQBackend('ibm_nairobi') from IBMQ(hub='ibm-q', group='open', project='main')>,\n",
       " <IBMQBackend('ibm_oslo') from IBMQ(hub='ibm-q', group='open', project='main')>]"
      ]
     },
     "execution_count": 21,
     "metadata": {},
     "output_type": "execute_result"
    }
   ],
   "source": [
    "backends = provider.backends(filters = lambda x:x.configuration().n_qubits >= 2 and not x.configuration().simulator\n",
    "                             and x.status().operational==True)\n",
    "backends"
   ]
  },
  {
   "cell_type": "markdown",
   "metadata": {},
   "source": [
    "One convenient way to choose a system is using the `least_busy` function to get the backend with the lowest number of jobs in queue.  The downside is that the result might have relatively poor accuracy because, not surprisingly, the lowest error rate systems are the most popular."
   ]
  },
  {
   "cell_type": "code",
   "execution_count": 22,
   "metadata": {
    "tags": [
     "uses-hardware"
    ]
   },
   "outputs": [
    {
     "data": {
      "application/vnd.jupyter.widget-view+json": {
       "model_id": "41ab2eac58604c69952d3f4de8405ae1",
       "version_major": 2,
       "version_minor": 0
      },
      "text/plain": [
       "VBox(children=(HTML(value=\"<h1 style='color:#ffffff;background-color:#000000;padding-top: 1%;padding-bottom: 1…"
      ]
     },
     "metadata": {},
     "output_type": "display_data"
    },
    {
     "data": {
      "text/plain": [
       "<IBMQBackend('ibmq_lima') from IBMQ(hub='ibm-q', group='open', project='main')>"
      ]
     },
     "execution_count": 22,
     "metadata": {},
     "output_type": "execute_result"
    }
   ],
   "source": [
    "from qiskit.providers.ibmq import least_busy\n",
    "backend = least_busy(provider.backends(filters=lambda x: x.configuration().n_qubits >= 2 and \n",
    "                                        not x.configuration().simulator and x.status().operational==True))\n",
    "backend"
   ]
  },
  {
   "cell_type": "markdown",
   "metadata": {},
   "source": [
    "Real quantum computers need to be recalibrated regularly, and the fidelity of a specific qubit or gate can change over time. Therefore, which system would produce results with less error can vary. \n",
    "\n",
    "In this exercise, we select one of the IBM Quantum systems: `ibmq_quito`."
   ]
  },
  {
   "cell_type": "code",
   "execution_count": 23,
   "metadata": {
    "tags": [
     "uses-hardware"
    ]
   },
   "outputs": [],
   "source": [
    "# run this cell\n",
    "backend = provider.get_backend('ibmq_quito')"
   ]
  },
  {
   "cell_type": "markdown",
   "metadata": {},
   "source": [
    "<h3 style=\"font-size: 20px\">Step 2. Define AND function for a real device</h3>\n",
    "\n",
    "We now define the AND function.  We choose 8192 as the number of shots, the maximum number of shots for open IBM systems, to reduce the variance in the final result. Related information is well explained [here](https://quantum-computing.ibm.com/docs/manage/backends/configuration)."
   ]
  },
  {
   "cell_type": "markdown",
   "metadata": {},
   "source": [
    "<h4 style=\"font-size: 16px\">Qiskit Transpiler</h4>"
   ]
  },
  {
   "cell_type": "markdown",
   "metadata": {},
   "source": [
    "It is important to know that when running a circuit on a real quantum computer, circuits typically need to be transpiled for the backend that you select so that the circuit contains only those gates that the quantum computer can actually perform. Primarily this involves the addition of swap gates so that two-qubit gates in the circuit map to those pairs of qubits on the device that can actually perform these gates. The following cell shows the AND gate represented as a Toffoli gate decomposed into single- and two-qubit gates, which are the only types of gate that can be run on IBM hardware."
   ]
  },
  {
   "cell_type": "code",
   "execution_count": 24,
   "metadata": {},
   "outputs": [
    {
     "name": "stdout",
     "output_type": "stream",
     "text": [
      "AND gate\n"
     ]
    },
    {
     "data": {
      "image/png": "[encoded data removed]",
      "text/plain": [
       "<Figure size 146.797x204.68 with 1 Axes>"
      ]
     },
     "metadata": {},
     "output_type": "display_data"
    },
    {
     "name": "stdout",
     "output_type": "stream",
     "text": [
      "\n",
      "\n",
      "Transpiled AND gate with all the required connectivity\n"
     ]
    },
    {
     "data": {
      "image/png": "[encoded data removed]",
      "text/plain": [
       "<Figure size 748.797x204.68 with 1 Axes>"
      ]
     },
     "execution_count": 24,
     "metadata": {},
     "output_type": "execute_result"
    }
   ],
   "source": [
    "qc_and = QuantumCircuit(3)\n",
    "qc_and.ccx(0,1,2)\n",
    "print('AND gate')\n",
    "display(qc_and.draw())\n",
    "print('\\n\\nTranspiled AND gate with all the required connectivity')\n",
    "qc_and.decompose().draw()"
   ]
  },
  {
   "cell_type": "markdown",
   "metadata": {},
   "source": [
    "In addition, there are often optimizations that the transpiler can perform that reduce the overall gate count, and thus total length of the input circuits.  Note that the addition of swaps to match the device topology, and optimizations for reducing the length of a circuit are at odds with each other. In what follows we will make use of `initial_layout` that allows us to pick the qubits on a device used for the computation and `optimization_level`, an argument that allows selecting from internal defaults for circuit swap mapping and optimization methods to perform.\n",
    "\n",
    "You can learn more about transpile function in depth [here](https://qiskit.org/documentation/apidoc/transpiler.html)."
   ]
  },
  {
   "cell_type": "markdown",
   "metadata": {},
   "source": [
    "Let's modify AND function in Part1 properly for the real system with the transpile step included."
   ]
  },
  {
   "cell_type": "code",
   "execution_count": 25,
   "metadata": {
    "tags": [
     "uses-hardware"
    ]
   },
   "outputs": [],
   "source": [
    "from qiskit.tools.monitor import job_monitor"
   ]
  },
  {
   "cell_type": "code",
   "execution_count": 26,
   "metadata": {
    "tags": [
     "uses-hardware"
    ]
   },
   "outputs": [],
   "source": [
    "# run the cell to define AND gate for real quantum system\n",
    "\n",
    "def AND(inp1, inp2, backend, layout):\n",
    "    \n",
    "    qc = QuantumCircuit(3, 1) \n",
    "    qc.reset(range(3))\n",
    "    \n",
    "    if inp1=='1':\n",
    "        qc.x(0)\n",
    "    if inp2=='1':\n",
    "        qc.x(1)\n",
    "        \n",
    "    qc.barrier()\n",
    "    qc.ccx(0, 1, 2) \n",
    "    qc.barrier()\n",
    "    qc.measure(2, 0) \n",
    "  \n",
    "    qc_trans = transpile(qc, backend, initial_layout=layout, optimization_level=3)\n",
    "    job = backend.run(qc_trans, shots=8192)\n",
    "    print(job.job_id())\n",
    "    job_monitor(job)\n",
    "    \n",
    "    output = job.result().get_counts()\n",
    "    \n",
    "    return qc_trans, output"
   ]
  },
  {
   "cell_type": "markdown",
   "metadata": {},
   "source": [
    "When you submit jobs to quantum systems, `job_monitor` will start tracking where your submitted job is in the pipeline."
   ]
  },
  {
   "cell_type": "markdown",
   "metadata": {},
   "source": [
    "First, examine `ibmq_quito` through the widget by running the cell below."
   ]
  },
  {
   "cell_type": "code",
   "execution_count": 27,
   "metadata": {},
   "outputs": [
    {
     "data": {
      "application/vnd.jupyter.widget-view+json": {
       "model_id": "3c5765cf63b04cf39f84525ecfcd5894",
       "version_major": 2,
       "version_minor": 0
      },
      "text/plain": [
       "VBox(children=(HTML(value=\"<h1 style='color:#ffffff;background-color:#000000;padding-top: 1%;padding-bottom: 1…"
      ]
     },
     "metadata": {},
     "output_type": "display_data"
    },
    {
     "data": {
      "text/plain": [
       "<IBMQBackend('ibmq_quito') from IBMQ(hub='ibm-q', group='open', project='main')>"
      ]
     },
     "execution_count": 27,
     "metadata": {},
     "output_type": "execute_result"
    }
   ],
   "source": [
    "backend"
   ]
  },
  {
   "cell_type": "markdown",
   "metadata": {},
   "source": [
    "<p>&#128211; Determine three qubit initial layout considering the error map and assign it to the list variable layout2.</p>"
   ]
  },
  {
   "cell_type": "code",
   "execution_count": 28,
   "metadata": {},
   "outputs": [],
   "source": [
    "layout = [0,1,3]"
   ]
  },
  {
   "cell_type": "markdown",
   "metadata": {},
   "source": [
    "<p>&#128211; Describe the reason for your choice of initial layout.</p>\n",
    "\n",
    "**your answer:**              "
   ]
  },
  {
   "cell_type": "markdown",
   "metadata": {},
   "source": [
    "Execute `AND` gate on `ibmq_quito` by running the cell below."
   ]
  },
  {
   "cell_type": "code",
   "execution_count": 29,
   "metadata": {},
   "outputs": [
    {
     "name": "stdout",
     "output_type": "stream",
     "text": [
      "63bf8d588eca234c2b27e18b\n",
      "Job Status: job has successfully run\n",
      "\n",
      "Probability of correct answer for inputs 0 0\n",
      "0.82\n",
      "---------------------------------\n",
      "63bf8dba19e6ff21e5047e61\n",
      "Job Status: job has successfully run\n",
      "\n",
      "Probability of correct answer for inputs 0 1\n",
      "0.92\n",
      "---------------------------------\n",
      "63bf8ded19e6ff5eb3047e64\n",
      "Job Status: job has successfully run\n",
      "\n",
      "Probability of correct answer for inputs 1 0\n",
      "0.91\n",
      "---------------------------------\n",
      "63bf8e154366171814ce4c9f\n",
      "Job Status: job has successfully run\n",
      "\n",
      "Probability of correct answer for inputs 1 1\n",
      "0.82\n",
      "---------------------------------\n",
      "\n",
      "\n",
      "The highest of these probabilities was 0.92\n",
      "The lowest of these probabilities was 0.82\n"
     ]
    }
   ],
   "source": [
    "output_all = []\n",
    "qc_trans_all = []\n",
    "prob_all = []\n",
    "\n",
    "worst = 1\n",
    "best = 0\n",
    "for input1 in ['0','1']:\n",
    "    for input2 in ['0','1']:\n",
    "        qc_trans, output = AND(input1, input2, backend, layout)\n",
    "        \n",
    "        output_all.append(output)\n",
    "        qc_trans_all.append(qc_trans)\n",
    "        \n",
    "        prob = output[str(int( input1=='1' and input2=='1' ))]/8192\n",
    "        prob_all.append(prob)\n",
    "        \n",
    "        print('\\nProbability of correct answer for inputs',input1,input2)\n",
    "        print('{:.2f}'.format(prob) )\n",
    "        print('---------------------------------')\n",
    "        \n",
    "        worst = min(worst,prob)\n",
    "        best = max(best, prob)\n",
    "        \n",
    "print('')\n",
    "print('\\nThe highest of these probabilities was {:.2f}'.format(best))\n",
    "print('The lowest of these probabilities was {:.2f}'.format(worst))"
   ]
  },
  {
   "cell_type": "markdown",
   "metadata": {},
   "source": [
    "<h3 style=\"font-size: 20px\">Step 3. Interpret the result</h3>"
   ]
  },
  {
   "cell_type": "markdown",
   "metadata": {},
   "source": [
    "There are several quantities that distinguish the circuits.  Chief among them is the  **circuit depth**.  Circuit depth is defined in detail [here](https://qiskit.org/documentation/apidoc/circuit.html) (See the Supplementary Information and click the Quantum Circuit Properties tab). Circuit depth is proportional to the number of gates in a circuit, and loosely corresponds to the runtime of the circuit on hardware.   Therefore, circuit depth is an easy to compute metric that can be used to estimate the fidelity of an executed circuit.\n",
    "\n",
    "A second important value is the number of **nonlocal** (multi-qubit) **gates** in a circuit.  On IBM Quantum systems, the only nonlocal gate that can physically be performed is the CNOT gate.  Recall that CNOT gates are the most expensive gates to perform, and thus the total number of these gates also serves as a good benchmark for the accuracy of the final output."
   ]
  },
  {
   "cell_type": "markdown",
   "metadata": {},
   "source": [
    "<h4 style=\"font-size: 16px\"> Circuit depth and result accuracy</h4>"
   ]
  },
  {
   "cell_type": "markdown",
   "metadata": {},
   "source": [
    "Running the cells below will display the four transpiled AND gate circuit diagrams with the corresponding inputs that executed on `ibm_lagos` and their circuit depths with the success probability for producing correct answer."
   ]
  },
  {
   "cell_type": "code",
   "execution_count": 30,
   "metadata": {},
   "outputs": [
    {
     "name": "stdout",
     "output_type": "stream",
     "text": [
      "Transpiled AND gate circuit for ibmq_vigo with input 0 0\n",
      "\n",
      "The circuit depth : 21\n",
      "# of nonlocal gates : 15\n",
      "Probability of correct answer : 0.82\n"
     ]
    },
    {
     "data": {
      "image/png": "[encoded data removed]",
      "text/plain": [
       "<Figure size 1563.79x385.28 with 1 Axes>"
      ]
     },
     "execution_count": 30,
     "metadata": {},
     "output_type": "execute_result"
    }
   ],
   "source": [
    "print('Transpiled AND gate circuit for ibmq_vigo with input 0 0')\n",
    "print('\\nThe circuit depth : {}'.format (qc_trans_all[0].depth()))\n",
    "print('# of nonlocal gates : {}'.format (qc_trans_all[0].num_nonlocal_gates()))\n",
    "print('Probability of correct answer : {:.2f}'.format(prob_all[0]) )\n",
    "qc_trans_all[0].draw('mpl')"
   ]
  },
  {
   "cell_type": "code",
   "execution_count": null,
   "metadata": {},
   "outputs": [],
   "source": [
    "print('Transpiled AND gate circuit for ibmq_vigo with input 0 1')\n",
    "print('\\nThe circuit depth : {}'.format (qc_trans_all[1].depth()))\n",
    "print('# of nonlocal gates : {}'.format (qc_trans_all[1].num_nonlocal_gates()))\n",
    "print('Probability of correct answer : {:.2f}'.format(prob_all[1]) )\n",
    "qc_trans_all[1].draw('mpl')"
   ]
  },
  {
   "cell_type": "code",
   "execution_count": null,
   "metadata": {},
   "outputs": [],
   "source": [
    "print('Transpiled AND gate circuit for ibmq_vigo with input 1 0')\n",
    "print('\\nThe circuit depth : {}'.format (qc_trans_all[2].depth()))\n",
    "print('# of nonlocal gates : {}'.format (qc_trans_all[2].num_nonlocal_gates()))\n",
    "print('Probability of correct answer : {:.2f}'.format(prob_all[2]) )\n",
    "qc_trans_all[2].draw('mpl')"
   ]
  },
  {
   "cell_type": "code",
   "execution_count": null,
   "metadata": {},
   "outputs": [],
   "source": [
    "print('Transpiled AND gate circuit for ibmq_vigo with input 1 1')\n",
    "print('\\nThe circuit depth : {}'.format (qc_trans_all[3].depth()))\n",
    "print('# of nonlocal gates : {}'.format (qc_trans_all[3].num_nonlocal_gates()))\n",
    "print('Probability of correct answer : {:.2f}'.format(prob_all[3]) )\n",
    "qc_trans_all[3].draw('mpl')"
   ]
  },
  {
   "cell_type": "markdown",
   "metadata": {},
   "source": [
    "<p>&#128211; Explain reason for the dissimilarity of the circuits.  Describe the relations between the property of the circuit and the accuracy of the outcomes.</p>"
   ]
  },
  {
   "cell_type": "markdown",
   "metadata": {},
   "source": [
    "**your answer:**"
   ]
  }
 ],
 "metadata": {
  "kernelspec": {
   "display_name": "Python 3 (ipykernel)",
   "language": "python",
   "name": "python3"
  },
  "language_info": {
   "codemirror_mode": {
    "name": "ipython",
    "version": 3
   },
   "file_extension": ".py",
   "mimetype": "text/x-python",
   "name": "python",
   "nbconvert_exporter": "python",
   "pygments_lexer": "ipython3",
   "version": "3.9.7"
  },
  "widgets": {
   "application/vnd.jupyter.widget-state+json": {
    "state": {
     "02b2fd1de8d1483bb8e6224e14e30235": {
      "model_module": "@jupyter-widgets/controls",
      "model_module_version": "1.5.0",
      "model_name": "VBoxModel",
      "state": {
       "children": [
        "IPY_MODEL_2e2a65a5dbad466d8a97b9c8d85321c6",
        "IPY_MODEL_6f9204cd82ca40f18fb99c26dcc9dfd1"
       ],
       "layout": "IPY_MODEL_b2c8a03d5d0a428cae2cb0f82e8b326f"
      }
     },
     "039fc6aa596f49aeb5c367209ce0df00": {
      "model_module": "@jupyter-widgets/base",
      "model_module_version": "1.2.0",
      "model_name": "LayoutModel",
      "state": {
       "grid_area": "top"
      }
     },
     "04dd9ae3ee1c4e5fa5c23dbd5361320a": {
      "model_module": "@jupyter-widgets/base",
      "model_module_version": "1.2.0",
      "model_name": "LayoutModel",
      "state": {
       "overflow_y": "scroll"
      }
     },
     "059c5404f73c452facb01ce128f43842": {
      "model_module": "@jupyter-widgets/base",
      "model_module_version": "1.2.0",
      "model_name": "LayoutModel",
      "state": {
       "overflow_y": "scroll"
      }
     },
     "05ee96e8823a47ff9cb6f4d367f3dcef": {
      "model_module": "@jupyter-widgets/base",
      "model_module_version": "1.2.0",
      "model_name": "LayoutModel",
      "state": {
       "grid_gap": "0px 0px",
       "grid_template_areas": "\n                               \"left right right right\"\n                               \"bottom bottom bottom bottom\"\n                               ",
       "grid_template_columns": "31% 23% 23% 23%",
       "grid_template_rows": "auto auto"
      }
     },
     "062c1269901d45adbc63788977b658af": {
      "model_module": "@jupyter-widgets/controls",
      "model_module_version": "1.5.0",
      "model_name": "HTMLModel",
      "state": {
       "layout": "IPY_MODEL_862873c19b25444aa30cd257bbecde69",
       "style": "IPY_MODEL_2e355ef715394b67ba3bdd6e59354bb9",
       "value": "<table><style>\ntable {\n    border-collapse: collapse;\n    width: auto;\n}\n\nth, td {\n    text-align: left;\n    padding: 8px;\n}\n\ntr:nth-child(even) {background-color: #f6f6f6;}\n</style><tr><th></th><th>Frequency</th><th>T1</th><th>T2</th><th>RZ</th><th>SX</th><th>X</th><th>Readout error</th></tr><tr><td><font style='font-weight:bold'>Q0</font></td><td>5.02976 GHz</td><td>95.59076 us</td><td>141.47314 us</td><td>0</td><td>0.00046</td><td>0.00046</td><td>0.0197 </td><tr><td><font style='font-weight:bold'>Q1</font></td><td>5.12773 GHz</td><td>47.78226 us</td><td>69.64744 us</td><td>0</td><td>0.00027</td><td>0.00027</td><td>0.0196 </td><tr><td><font style='font-weight:bold'>Q2</font></td><td>5.24735 GHz</td><td>56.92441 us</td><td>80.15976 us</td><td>0</td><td>0.00039</td><td>0.00039</td><td>0.0239 </td><tr><td><font style='font-weight:bold'>Q3</font></td><td>5.30257 GHz</td><td>70.94124 us</td><td>98.5022 us</td><td>0</td><td>0.00027</td><td>0.00027</td><td>0.0266 </td><tr><td><font style='font-weight:bold'>Q4</font></td><td>5.09203 GHz</td><td>20.73377 us</td><td>18.86794 us</td><td>0</td><td>0.00061</td><td>0.00061</td><td>0.052 </td></table>"
      }
     },
     "06fa3a5fd991452dace8dbbb49fccc9a": {
      "model_module": "@jupyter-widgets/base",
      "model_module_version": "1.2.0",
      "model_name": "LayoutModel",
      "state": {}
     },
     "078e68bdcc6d4429bd3f118a129a6df0": {
      "model_module": "@jupyter-widgets/controls",
      "model_module_version": "1.5.0",
      "model_name": "TabModel",
      "state": {
       "_titles": {
        "0": "Configuration",
        "1": "Qubit Properties",
        "2": "Multi-Qubit Gates",
        "3": "Error Map",
        "4": "Job History"
       },
       "children": [
        "IPY_MODEL_bea88649a7774686a5b587d0f61a1d34",
        "IPY_MODEL_1141bd526b4448868dd26a2231083400",
        "IPY_MODEL_43232cb05fed44ce80293e89c0fc6d6d",
        "IPY_MODEL_77ca2df10b274af1b418bf605f772e4b",
        "IPY_MODEL_a6bfb0ac290c46fb996769b9233733e1"
       ],
       "layout": "IPY_MODEL_f70517e602fa497998198a949fcedf91"
      }
     },
     "07bee5ab3fb64e749b26e682f4029a8a": {
      "model_module": "@jupyter-widgets/controls",
      "model_module_version": "1.5.0",
      "model_name": "DescriptionStyleModel",
      "state": {
       "description_width": ""
      }
     },
     "081ac41f477449ac8ec30a1f1a903fba": {
      "model_module": "@jupyter-widgets/controls",
      "model_module_version": "1.5.0",
      "model_name": "HBoxModel",
      "state": {
       "children": [
        "IPY_MODEL_3bf764cebbdb4eff8ac0914e83ded1c1",
        "IPY_MODEL_a9e1e11cb698464685e2482079200832",
        "IPY_MODEL_60d2fea51e3f4f70903d033be96b86b8",
        "IPY_MODEL_653854541a12417dbd8db4039763c566",
        "IPY_MODEL_563f57901e8e467ea664d6e2ea97fad4",
        "IPY_MODEL_bc1e7fbc5a8641cfabb77d441bbaca1d"
       ],
       "layout": "IPY_MODEL_249716b7f25340379151d63b74e75952"
      }
     },
     "09e5f9a5d09645588f0a93d356e74c47": {
      "model_module": "@jupyter-widgets/controls",
      "model_module_version": "1.5.0",
      "model_name": "GridBoxModel",
      "state": {
       "children": [
        "IPY_MODEL_e12253548ec540d687922290455eae97",
        "IPY_MODEL_5eae96d97e324736942dae8f59602336",
        "IPY_MODEL_34fe3f3f4b1b489eb6e7beac021b031b",
        "IPY_MODEL_12e4988eaac84bad80562794ad54f5a7"
       ],
       "layout": "IPY_MODEL_455dc1c888e247dbb307a87c7004814c"
      }
     },
     "0b8034a29d1841e0be11f1fb90ef478e": {
      "model_module": "@jupyter-widgets/controls",
      "model_module_version": "1.5.0",
      "model_name": "HTMLModel",
      "state": {
       "layout": "IPY_MODEL_37932acaa2274859a69ad9ecea6d8e73",
       "style": "IPY_MODEL_78d96ce82b654edbb527841089fb67fe",
       "value": "<table><style>\ntable {\n    border-collapse: collapse;\n    width: auto;\n}\n\nth, td {\n    text-align: left;\n    padding: 8px;\n}\n\ntr:nth-child(even) {background-color: #f6f6f6;};\n</style><tr><th></th><th>Type</th><th>Gate error</th></tr><tr><td><font style='font-weight:bold'>cx2_1</font></td><td>cx</td><td>0.0073</td></tr><tr><td><font style='font-weight:bold'>cx1_2</font></td><td>cx</td><td>0.0073</td></tr></table>"
      }
     },
     "0bbe3139b58d427e85e35b2d1efff85a": {
      "model_module": "@jupyter-widgets/controls",
      "model_module_version": "1.5.0",
      "model_name": "DescriptionStyleModel",
      "state": {
       "description_width": ""
      }
     },
     "0c7c0880a4ed481693712f8f5c0787dc": {
      "model_module": "@jupyter-widgets/controls",
      "model_module_version": "1.5.0",
      "model_name": "VBoxModel",
      "state": {
       "children": [
        "IPY_MODEL_fb0616994e7a48d8b863e0480e9a2783",
        "IPY_MODEL_078e68bdcc6d4429bd3f118a129a6df0"
       ],
       "layout": "IPY_MODEL_69600096a7a140f0a72c21f4e513d8a0"
      }
     },
     "0d2259c711574cac803484dbd8ad757a": {
      "model_module": "@jupyter-widgets/controls",
      "model_module_version": "1.5.0",
      "model_name": "HTMLModel",
      "state": {
       "layout": "IPY_MODEL_77cb06cbb0b649a68b8aca8b6eb58526",
       "style": "IPY_MODEL_ffe1a77f3ec74eec9dd50ba5949df485",
       "value": "<table><style>\ntable {\n    border-collapse: collapse;\n    width: auto;\n}\n\nth, td {\n    text-align: left;\n    padding: 8px;\n}\n\ntr:nth-child(even) {background-color: #f6f6f6;};\n</style><tr><th></th><th>Type</th><th>Gate error</th></tr><tr><td><font style='font-weight:bold'>cx3_1</font></td><td>cx</td><td>0.00852</td></tr><tr><td><font style='font-weight:bold'>cx2_1</font></td><td>cx</td><td>0.00885</td></tr><tr><td><font style='font-weight:bold'>cx1_2</font></td><td>cx</td><td>0.00885</td></tr></table>"
      }
     },
     "0dc9588e96284fea8a99c265cdc66e1e": {
      "model_module": "@jupyter-widgets/controls",
      "model_module_version": "1.5.0",
      "model_name": "DescriptionStyleModel",
      "state": {
       "description_width": ""
      }
     },
     "0e4bcd9e2ddd417c880e11823f855f5a": {
      "model_module": "@jupyter-widgets/controls",
      "model_module_version": "1.5.0",
      "model_name": "DescriptionStyleModel",
      "state": {
       "description_width": ""
      }
     },
     "0e5acdb617724a289f21000d79d181e5": {
      "model_module": "@jupyter-widgets/base",
      "model_module_version": "1.2.0",
      "model_name": "LayoutModel",
      "state": {}
     },
     "0ee153f94c3e480184fe0fe7aad3e45c": {
      "model_module": "@jupyter-widgets/controls",
      "model_module_version": "1.5.0",
      "model_name": "HBoxModel",
      "state": {
       "children": [
        "IPY_MODEL_c81f4d5586014cc0a208751e2bc28da9",
        "IPY_MODEL_7ce81c23adc64ec893574e7522b49aca",
        "IPY_MODEL_24e7d17ea51b45d1a8a1fc26486ddd66",
        "IPY_MODEL_1d2342ec0531409fb44fb844c7a32417",
        "IPY_MODEL_36ba005addc4452ebf4dfb1b27284c48",
        "IPY_MODEL_9fa274c9ca9f4ce6b8cd2cd0fddd4c59"
       ],
       "layout": "IPY_MODEL_c68264f127464ae4ac47c774c7b98598"
      }
     },
     "0ff8ece085a5447ea6c8dcedcf6fcb0d": {
      "model_module": "@jupyter-widgets/base",
      "model_module_version": "1.2.0",
      "model_name": "LayoutModel",
      "state": {
       "grid_area": "left",
       "width": "100%"
      }
     },
     "1049f601ee0d4707af896ca5df39f8bc": {
      "model_module": "@jupyter-widgets/base",
      "model_module_version": "1.2.0",
      "model_name": "LayoutModel",
      "state": {
       "grid_area": "right",
       "padding": "0px 0px 0px 0px",
       "width": "70px"
      }
     },
     "1141bd526b4448868dd26a2231083400": {
      "model_module": "@jupyter-widgets/controls",
      "model_module_version": "1.5.0",
      "model_name": "VBoxModel",
      "state": {
       "children": [
        "IPY_MODEL_7befbc97c94d41c6ae39f4df04a1ac08",
        "IPY_MODEL_062c1269901d45adbc63788977b658af"
       ],
       "layout": "IPY_MODEL_61af63596a4c402f8cf932315550d4e9"
      }
     },
     "1192bfcecb714a87ba76fa8b95686f2c": {
      "model_module": "@jupyter-widgets/controls",
      "model_module_version": "1.5.0",
      "model_name": "ButtonStyleModel",
      "state": {}
     },
     "125ca8f31be243e593cbd6a5acd3174a": {
      "model_module": "@jupyter-widgets/base",
      "model_module_version": "1.2.0",
      "model_name": "LayoutModel",
      "state": {
       "width": "95px"
      }
     },
     "12d5ce4c4b46497683f6f053cee1fb65": {
      "model_module": "@jupyter-widgets/controls",
      "model_module_version": "1.5.0",
      "model_name": "HTMLModel",
      "state": {
       "layout": "IPY_MODEL_2ad2933b27db46988007388943c9fe77",
       "style": "IPY_MODEL_cf8a2d2638a642e9a143db7688d3b708",
       "value": "<h5>Queue</h5>"
      }
     },
     "12e4988eaac84bad80562794ad54f5a7": {
      "model_module": "@jupyter-widgets/controls",
      "model_module_version": "1.5.0",
      "model_name": "HTMLModel",
      "state": {
       "layout": "IPY_MODEL_6b16022a52c44129811a97b8ec19bde3",
       "style": "IPY_MODEL_f89b0d817f024ee99c3d525c687eadb2",
       "value": "<table><style>\ntable {\n    border-collapse: collapse;\n    width: auto;\n}\n\nth, td {\n    text-align: left;\n    padding: 8px;\n}\n\ntr:nth-child(even) {background-color: #f6f6f6;};\n</style><tr><th></th><th>Type</th><th>Gate error</th></tr><tr><td><font style='font-weight:bold'>cx2_1</font></td><td>cx</td><td>0.0073</td></tr><tr><td><font style='font-weight:bold'>cx1_2</font></td><td>cx</td><td>0.0073</td></tr></table>"
      }
     },
     "151b1dff04d848d9a6d384ff0994ee32": {
      "model_module": "@jupyter-widgets/controls",
      "model_module_version": "1.5.0",
      "model_name": "HBoxModel",
      "state": {
       "children": [
        "IPY_MODEL_294c5f13177e49d8a7bda27c9e1adc1b",
        "IPY_MODEL_b842413bfe394bfbb73dcb0b7db980cb",
        "IPY_MODEL_8f401ee3dbc5423ba900ba3d49f14eee",
        "IPY_MODEL_8d0c061af6d0422da65ecec29e4dd94a",
        "IPY_MODEL_274527fb18c9484286ded204d5addfc1",
        "IPY_MODEL_58585e86b1334467ab32e6993566ad6d"
       ],
       "layout": "IPY_MODEL_bba91a641a6e4b30a1aca7e92425ea7c"
      }
     },
     "15a8ce03a47d4b4e8c53062e25470949": {
      "model_module": "@jupyter-widgets/base",
      "model_module_version": "1.2.0",
      "model_name": "LayoutModel",
      "state": {
       "max_height": "620px"
      }
     },
     "15b34582103d49288013a441b2a74985": {
      "model_module": "@jupyter-widgets/base",
      "model_module_version": "1.2.0",
      "model_name": "LayoutModel",
      "state": {
       "grid_area": "left"
      }
     },
     "17d9db987e5945b188fa33246859a205": {
      "model_module": "@jupyter-widgets/output",
      "model_module_version": "1.0.0",
      "model_name": "OutputModel",
      "state": {
       "layout": "IPY_MODEL_d88b728fdc8f4c0fac9659d79a04e30b",
       "outputs": [
        {
         "data": {
          "image/png": "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\n",
          "text/plain": "<Figure size 360x360 with 1 Axes>"
         },
         "metadata": {},
         "output_type": "display_data"
        }
       ]
      }
     },
     "17ec4a2c5cbc437e934afe1b41d2de0f": {
      "model_module": "@jupyter-widgets/base",
      "model_module_version": "1.2.0",
      "model_name": "LayoutModel",
      "state": {
       "width": "190px"
      }
     },
     "1845e12ecb174938bd5c5c74d7965113": {
      "model_module": "@jupyter-widgets/controls",
      "model_module_version": "1.5.0",
      "model_name": "TabModel",
      "state": {
       "layout": "IPY_MODEL_fe886e937ac244cfadfcf07606247d68"
      }
     },
     "193461de3f6a4089b5b7a15133aca692": {
      "model_module": "@jupyter-widgets/controls",
      "model_module_version": "1.5.0",
      "model_name": "DescriptionStyleModel",
      "state": {
       "description_width": ""
      }
     },
     "1a119f00418a4925b235726c1b696730": {
      "model_module": "@jupyter-widgets/base",
      "model_module_version": "1.2.0",
      "model_name": "LayoutModel",
      "state": {
       "grid_area": "top"
      }
     },
     "1ce66cedff8f4830944541f8ebb052b7": {
      "model_module": "@jupyter-widgets/controls",
      "model_module_version": "1.5.0",
      "model_name": "DescriptionStyleModel",
      "state": {
       "description_width": ""
      }
     },
     "1d2342ec0531409fb44fb844c7a32417": {
      "model_module": "@jupyter-widgets/controls",
      "model_module_version": "1.5.0",
      "model_name": "HTMLModel",
      "state": {
       "layout": "IPY_MODEL_81991ab70cfe47b8a0dc8f742d851898",
       "style": "IPY_MODEL_e7c51786a38647c3a41f8be6e70f94f9",
       "value": "<font style='color:#34BC6E'>DONE</font>"
      }
     },
     "1e1831b619324b2194ff5bde9af7914e": {
      "model_module": "@jupyter-widgets/base",
      "model_module_version": "1.2.0",
      "model_name": "LayoutModel",
      "state": {
       "border": "4px solid #000000",
       "max_height": "650px",
       "min_height": "650px",
       "overflow_y": "hidden"
      }
     },
     "1eb6a6184bcb480cb39db1ac91b64ac1": {
      "model_module": "@jupyter-widgets/controls",
      "model_module_version": "1.5.0",
      "model_name": "DescriptionStyleModel",
      "state": {
       "description_width": ""
      }
     },
     "210f9951603a4eaf806c495b55279244": {
      "model_module": "@jupyter-widgets/controls",
      "model_module_version": "1.5.0",
      "model_name": "DescriptionStyleModel",
      "state": {
       "description_width": ""
      }
     },
     "211b8594c87f4f728e6bb79cd2309596": {
      "model_module": "@jupyter-widgets/controls",
      "model_module_version": "1.5.0",
      "model_name": "DescriptionStyleModel",
      "state": {
       "description_width": ""
      }
     },
     "239283c651a942409093924aed88f59e": {
      "model_module": "@jupyter-widgets/base",
      "model_module_version": "1.2.0",
      "model_name": "LayoutModel",
      "state": {
       "width": "145px"
      }
     },
     "2492e0bc9a3f48eeb59302fa59bb33bc": {
      "model_module": "@jupyter-widgets/controls",
      "model_module_version": "1.5.0",
      "model_name": "DescriptionStyleModel",
      "state": {
       "description_width": ""
      }
     },
     "249716b7f25340379151d63b74e75952": {
      "model_module": "@jupyter-widgets/base",
      "model_module_version": "1.2.0",
      "model_name": "LayoutModel",
      "state": {
       "max_width": "700px",
       "min_width": "700px"
      }
     },
     "24e7d17ea51b45d1a8a1fc26486ddd66": {
      "model_module": "@jupyter-widgets/controls",
      "model_module_version": "1.5.0",
      "model_name": "HTMLModel",
      "state": {
       "layout": "IPY_MODEL_3be5a96132694db4a937e76bfb3d3612",
       "style": "IPY_MODEL_d40fb2b54dd6461eb66705fa03d8b19c",
       "value": "ibmq_quito"
      }
     },
     "259dc129bb744aabb349401040987623": {
      "model_module": "@jupyter-widgets/controls",
      "model_module_version": "1.5.0",
      "model_name": "DescriptionStyleModel",
      "state": {
       "description_width": ""
      }
     },
     "274527fb18c9484286ded204d5addfc1": {
      "model_module": "@jupyter-widgets/controls",
      "model_module_version": "1.5.0",
      "model_name": "HTMLModel",
      "state": {
       "layout": "IPY_MODEL_b0bbd5a8e0b3428c873d364e120cfcb7",
       "style": "IPY_MODEL_750cf3d6214d487097885759b12e193f",
       "value": "-"
      }
     },
     "294c5f13177e49d8a7bda27c9e1adc1b": {
      "model_module": "@jupyter-widgets/controls",
      "model_module_version": "1.5.0",
      "model_name": "ButtonModel",
      "state": {
       "icon": "close",
       "layout": "IPY_MODEL_56b5cd3e1a19410d9edb44d8af7aa618",
       "style": "IPY_MODEL_c4547ac498dc44c3a76fd4435c489059"
      }
     },
     "2a574a4a3c1e4ce3900bbff6daddc87a": {
      "model_module": "@jupyter-widgets/base",
      "model_module_version": "1.2.0",
      "model_name": "LayoutModel",
      "state": {
       "margin": "0px 0px 0px 0px"
      }
     },
     "2ad2933b27db46988007388943c9fe77": {
      "model_module": "@jupyter-widgets/base",
      "model_module_version": "1.2.0",
      "model_name": "LayoutModel",
      "state": {
       "width": "70px"
      }
     },
     "2bbc590484ba40e3bffedf277d1eb328": {
      "model_module": "@jupyter-widgets/controls",
      "model_module_version": "1.5.0",
      "model_name": "HTMLModel",
      "state": {
       "layout": "IPY_MODEL_973a221ff890487d9646fe694a756ecc",
       "style": "IPY_MODEL_c51e88c3b613469ea42d4f026173cf38",
       "value": "<table><style>\ntable {\n    border-collapse: collapse;\n    width: auto;\n}\n\nth, td {\n    text-align: left;\n    padding: 8px;\n}\n\ntr:nth-child(even) {background-color: #f6f6f6;}\n</style><tr><th></th><th>Frequency</th><th>T1</th><th>T2</th><th>RZ</th><th>SX</th><th>X</th><th>Readout error</th></tr><tr><td><font style='font-weight:bold'>Q0</font></td><td>5.02976 GHz</td><td>95.59076 us</td><td>141.47314 us</td><td>0</td><td>0.00046</td><td>0.00046</td><td>0.0197 </td><tr><td><font style='font-weight:bold'>Q1</font></td><td>5.12773 GHz</td><td>47.78226 us</td><td>69.64744 us</td><td>0</td><td>0.00027</td><td>0.00027</td><td>0.0196 </td><tr><td><font style='font-weight:bold'>Q2</font></td><td>5.24735 GHz</td><td>56.92441 us</td><td>80.15976 us</td><td>0</td><td>0.00039</td><td>0.00039</td><td>0.0239 </td><tr><td><font style='font-weight:bold'>Q3</font></td><td>5.30257 GHz</td><td>70.94124 us</td><td>98.5022 us</td><td>0</td><td>0.00027</td><td>0.00027</td><td>0.0266 </td><tr><td><font style='font-weight:bold'>Q4</font></td><td>5.09203 GHz</td><td>20.73377 us</td><td>18.86794 us</td><td>0</td><td>0.00061</td><td>0.00061</td><td>0.052 </td></table>"
      }
     },
     "2e2a65a5dbad466d8a97b9c8d85321c6": {
      "model_module": "@jupyter-widgets/controls",
      "model_module_version": "1.5.0",
      "model_name": "HTMLModel",
      "state": {
       "layout": "IPY_MODEL_8aabb9f6690041ffae65812fb33ca9b5",
       "style": "IPY_MODEL_9efa21b7bfda4e48aff2dc8a320cc3bb",
       "value": "<div><font style='font-weight:bold'>last_update_date</font>: Wed 11 January 2023 at 06:03 UTC</div>"
      }
     },
     "2e2fe194e7214e0296f2aaa5c9ffa4f0": {
      "model_module": "@jupyter-widgets/controls",
      "model_module_version": "1.5.0",
      "model_name": "GridBoxModel",
      "state": {
       "children": [
        "IPY_MODEL_de90fec843e84960b31896a7ff0abe49"
       ],
       "layout": "IPY_MODEL_9ae1a9223cb6430db452b8ff045c44c3"
      }
     },
     "2e355ef715394b67ba3bdd6e59354bb9": {
      "model_module": "@jupyter-widgets/controls",
      "model_module_version": "1.5.0",
      "model_name": "DescriptionStyleModel",
      "state": {
       "description_width": ""
      }
     },
     "2eec842c7644493196b4c2ab37aeaaa6": {
      "model_module": "@jupyter-widgets/controls",
      "model_module_version": "1.5.0",
      "model_name": "HTMLModel",
      "state": {
       "layout": "IPY_MODEL_9a51b0511b304301823317ec0c49c19a",
       "style": "IPY_MODEL_9c66af7d616e4111b4b7af90271b3239",
       "value": "<h5>Job ID</h5>"
      }
     },
     "30b5a13bbc2c4ec29fde50e67f6c75bf": {
      "model_module": "@jupyter-widgets/controls",
      "model_module_version": "1.5.0",
      "model_name": "HTMLModel",
      "state": {
       "layout": "IPY_MODEL_ef5abfe23f0d492cbff29227382e3f68",
       "style": "IPY_MODEL_b9fe0bf1cc7d42bfa475e075c2048352",
       "value": "-"
      }
     },
     "3279fdae71e345c7a5c541b2dcab4760": {
      "model_module": "@jupyter-widgets/base",
      "model_module_version": "1.2.0",
      "model_name": "LayoutModel",
      "state": {
       "grid_gap": "0px 0px",
       "grid_template_areas": "\n                               \"left right right right\"\n                               \"bottom bottom bottom bottom\"\n                               ",
       "grid_template_columns": "31% 23% 23% 23%",
       "grid_template_rows": "auto auto"
      }
     },
     "32a4c525f9044500acc4fd15f9aeaa2b": {
      "model_module": "@jupyter-widgets/controls",
      "model_module_version": "1.5.0",
      "model_name": "ButtonStyleModel",
      "state": {
       "button_color": "white"
      }
     },
     "3490222199114995aebff78a67699454": {
      "model_module": "@jupyter-widgets/controls",
      "model_module_version": "1.5.0",
      "model_name": "DescriptionStyleModel",
      "state": {
       "description_width": ""
      }
     },
     "34fe3f3f4b1b489eb6e7beac021b031b": {
      "model_module": "@jupyter-widgets/controls",
      "model_module_version": "1.5.0",
      "model_name": "HTMLModel",
      "state": {
       "layout": "IPY_MODEL_38b39511338c48519e2a89283e83e545",
       "style": "IPY_MODEL_0dc9588e96284fea8a99c265cdc66e1e",
       "value": "<table><style>\ntable {\n    border-collapse: collapse;\n    width: auto;\n}\n\nth, td {\n    text-align: left;\n    padding: 8px;\n}\n\ntr:nth-child(even) {background-color: #f6f6f6;};\n</style><tr><th></th><th>Type</th><th>Gate error</th></tr><tr><td><font style='font-weight:bold'>cx1_0</font></td><td>cx</td><td>0.00789</td></tr><tr><td><font style='font-weight:bold'>cx3_1</font></td><td>cx</td><td>0.01365</td></tr><tr><td><font style='font-weight:bold'>cx1_3</font></td><td>cx</td><td>0.01365</td></tr></table>"
      }
     },
     "36acd27a067b4df1babadcb44ca2bdff": {
      "model_module": "@jupyter-widgets/controls",
      "model_module_version": "1.5.0",
      "model_name": "DescriptionStyleModel",
      "state": {
       "description_width": ""
      }
     },
     "36ba005addc4452ebf4dfb1b27284c48": {
      "model_module": "@jupyter-widgets/controls",
      "model_module_version": "1.5.0",
      "model_name": "HTMLModel",
      "state": {
       "layout": "IPY_MODEL_5fc464414ac6468e9f1012c5c7f9a25a",
       "style": "IPY_MODEL_9f2c49f55ad84785ab2994c9dce88bab",
       "value": "-"
      }
     },
     "37932acaa2274859a69ad9ecea6d8e73": {
      "model_module": "@jupyter-widgets/base",
      "model_module_version": "1.2.0",
      "model_name": "LayoutModel",
      "state": {
       "grid_area": "right"
      }
     },
     "38045aeb5bab4580a80f463b5d87914f": {
      "model_module": "@jupyter-widgets/base",
      "model_module_version": "1.2.0",
      "model_name": "LayoutModel",
      "state": {
       "grid_area": "left",
       "width": "100%"
      }
     },
     "38b39511338c48519e2a89283e83e545": {
      "model_module": "@jupyter-widgets/base",
      "model_module_version": "1.2.0",
      "model_name": "LayoutModel",
      "state": {
       "grid_area": "middle"
      }
     },
     "3be5a96132694db4a937e76bfb3d3612": {
      "model_module": "@jupyter-widgets/base",
      "model_module_version": "1.2.0",
      "model_name": "LayoutModel",
      "state": {
       "width": "145px"
      }
     },
     "3bf764cebbdb4eff8ac0914e83ded1c1": {
      "model_module": "@jupyter-widgets/controls",
      "model_module_version": "1.5.0",
      "model_name": "ButtonModel",
      "state": {
       "icon": "close",
       "layout": "IPY_MODEL_fbeba164d7a04c24a6aa560bdc341808",
       "style": "IPY_MODEL_56a65a6f9ebb4a40b5d7d4ce60cf1289"
      }
     },
     "3bfedf5735be47afb77519f91dec4541": {
      "model_module": "@jupyter-widgets/controls",
      "model_module_version": "1.5.0",
      "model_name": "DescriptionStyleModel",
      "state": {
       "description_width": ""
      }
     },
     "3c5765cf63b04cf39f84525ecfcd5894": {
      "model_module": "@jupyter-widgets/controls",
      "model_module_version": "1.5.0",
      "model_name": "VBoxModel",
      "state": {
       "children": [
        "IPY_MODEL_a96b54885ae64d7798bc083f6996dac5",
        "IPY_MODEL_74f495c479004c5980564fa2cd84bcba"
       ],
       "layout": "IPY_MODEL_d331634887054e93aa589f1624865ef8"
      }
     },
     "3ca67884d57a4dbb83a9e69a766bea7c": {
      "model_module": "@jupyter-widgets/controls",
      "model_module_version": "1.5.0",
      "model_name": "HTMLModel",
      "state": {
       "layout": "IPY_MODEL_c14de0c95874448c97ede413f323cbe6",
       "style": "IPY_MODEL_4565d584479b4a7e8c69439cb2ad0619",
       "value": "<h1 style='color:#ffffff;background-color:#000000;padding-top: 1%;padding-bottom: 1%;padding-left: 1%; margin-top: 0px'>ibmq_lima</h1>"
      }
     },
     "3ee041d1f9be45858128e46e28c4c7a6": {
      "model_module": "@jupyter-widgets/base",
      "model_module_version": "1.2.0",
      "model_name": "LayoutModel",
      "state": {
       "overflow_x": "scroll"
      }
     },
     "40182b5dd9b54f4486b0609285b4510d": {
      "model_module": "@jupyter-widgets/controls",
      "model_module_version": "1.5.0",
      "model_name": "HTMLMathModel",
      "state": {
       "layout": "IPY_MODEL_8871bb0119114b6fa18614be978b9fcd",
       "style": "IPY_MODEL_971e8b8060714d88a7397029f09ef621",
       "value": "<table><style>\ntable {\n    border-collapse: collapse;\n    width: auto;\n}\n\nth, td {\n    text-align: left;\n    padding: 8px;\n}\n\ntr:nth-child(even) {background-color: #f6f6f6;}\n</style><tr><th></th><th></th></tr><tr><td>memory</td><td>True</td></tr><tr><td>qubit_lo_range</td><td>[[4.529755470194274, 5.529755470194274], [4.627731950559698, 5.627731950559698], [4.747349626464536, 5.747349626464536], [4.802571209580754, 5.802571209580754], [4.592032543559681, 5.592032543559681]]</td></tr><tr><td>meas_kernels</td><td>['hw_boxcar']</td></tr><tr><td>pulse_num_qubits</td><td>3</td></tr><tr><td>parallel_compilation</td><td>False</td></tr><tr><td>dynamic_reprate_enabled</td><td>True</td></tr><tr><td>simulator</td><td>False</td></tr><tr><td>rep_delay_range</td><td>[0.0, 500.0]</td></tr><tr><td>live_data</td><td>False</td></tr><tr><td>meas_map</td><td>[[0, 1, 2, 3, 4]]</td></tr><tr><td>meas_lo_range</td><td>[[6.925143125000001, 7.925143125000001], [6.721646720000001, 7.721646720000001], [6.971842939, 7.971842939], [6.865317232000001, 7.865317232000001], [6.919067567000001, 7.919067567000001]]</td></tr><tr><td>allow_q_object</td><td>True</td></tr><tr><td>measure_esp_enabled</td><td>False</td></tr><tr><td>open_pulse</td><td>False</td></tr><tr><td>qubit_channel_mapping</td><td>[['m0', 'u1', 'u0', 'd0'], ['u0', 'u3', 'm1', 'u1', 'u4', 'u5', 'd1', 'u2'], ['m2', 'u4', 'd2', 'u2'], ['d3', 'm3', 'u3', 'u6', 'u5', 'u7'], ['u7', 'd4', 'm4', 'u6']]</td></tr><tr><td>supported_features</td><td>['qobj']</td></tr><tr><td>processor_type</td><td>{'family': 'Falcon', 'revision': 4, 'segment': 'T'}</td></tr><tr><td>supported_instructions</td><td>['cx', 'id', 'delay', 'measure', 'reset', 'rz', 'sx', 'x']</td></tr><tr><td>allow_object_storage</td><td>True</td></tr><tr><td>hamiltonian</td><td>$$\\begin{align} \\mathcal{H}/\\hbar = & \\sum_{i=0}^{4}\\left(\\frac{\\omega_{q,i}}{2}(\\mathbb{I}-\\sigma_i^{z})+\\frac{\\Delta_{i}}{2}(O_i^2-O_i)+\\Omega_{d,i}D_i(t)\\sigma_i^{X}\\right) \\\\ & + J_{0,1}(\\sigma_{0}^{+}\\sigma_{1}^{-}+\\sigma_{0}^{-}\\sigma_{1}^{+}) + J_{1,2}(\\sigma_{1}^{+}\\sigma_{2}^{-}+\\sigma_{1}^{-}\\sigma_{2}^{+}) + J_{1,3}(\\sigma_{1}^{+}\\sigma_{3}^{-}+\\sigma_{1}^{-}\\sigma_{3}^{+}) + J_{3,4}(\\sigma_{3}^{+}\\sigma_{4}^{-}+\\sigma_{3}^{-}\\sigma_{4}^{+}) \\\\ & + \\Omega_{d,0}(U_{0}^{(0,1)}(t))\\sigma_{0}^{X} + \\Omega_{d,1}(U_{1}^{(1,0)}(t)+U_{3}^{(1,3)}(t)+U_{2}^{(1,2)}(t))\\sigma_{1}^{X} \\\\ & + \\Omega_{d,2}(U_{4}^{(2,1)}(t))\\sigma_{2}^{X} + \\Omega_{d,3}(U_{6}^{(3,4)}(t)+U_{5}^{(3,1)}(t))\\sigma_{3}^{X} \\\\ & + \\Omega_{d,4}(U_{7}^{(4,3)}(t))\\sigma_{4}^{X} \\\\ \\end{align}$$</td></tr><tr><td>uchannels_enabled</td><td>True</td></tr><tr><td>timing_constraints</td><td>{'acquire_alignment': 16, 'granularity': 16, 'min_length': 64, 'pulse_alignment': 1}</td></tr><tr><td>url</td><td>None</td></tr><tr><td>dtm</td><td>0.2222222222222222</td></tr><tr><td>input_allowed</td><td>['job', 'runtime']</td></tr><tr><td>discriminators</td><td>['linear_discriminator', 'hw_centroid', 'quadratic_discriminator']</td></tr><tr><td>u_channel_lo</td><td>[[{'q': 1, 'scale': (1+0j)}], [{'q': 0, 'scale': (1+0j)}], [{'q': 2, 'scale': (1+0j)}], [{'q': 3, 'scale': (1+0j)}], [{'q': 1, 'scale': (1+0j)}], [{'q': 1, 'scale': (1+0j)}], [{'q': 4, 'scale': (1+0j)}], [{'q': 3, 'scale': (1+0j)}]]</td></tr><tr><td>acquisition_latency</td><td>[]</td></tr><tr><td>conditional_latency</td><td>[]</td></tr><tr><td>multi_meas_enabled</td><td>True</td></tr><tr><td>pulse_num_channels</td><td>9</td></tr><tr><td>local</td><td>False</td></tr><tr><td>backend_name</td><td>ibmq_lima</td></tr><tr><td>description</td><td>5 qubit device Lima</td></tr><tr><td>n_uchannels</td><td>8</td></tr><tr><td>default_rep_delay</td><td>250.0</td></tr><tr><td>sample_name</td><td>family: Falcon, revision: 4, segment: T</td></tr><tr><td>online_date</td><td>2021-01-08 05:00:00+00:00</td></tr><tr><td>coupling_map</td><td>[[0, 1], [1, 0], [1, 2], [1, 3], [2, 1], [3, 1], [3, 4], [4, 3]]</td></tr><tr><td>n_registers</td><td>1</td></tr><tr><td>parametric_pulses</td><td>['gaussian', 'gaussian_square', 'gaussian_square_drag', 'drag', 'constant']</td></tr><tr><td>rep_times</td><td>[1000.0]</td></tr><tr><td>channels</td><td>{'acquire0': {'operates': {'qubits': [0]}, 'purpose': 'acquire', 'type': 'acquire'}, 'acquire1': {'operates': {'qubits': [1]}, 'purpose': 'acquire', 'type': 'acquire'}, 'acquire2': {'operates': {'qubits': [2]}, 'purpose': 'acquire', 'type': 'acquire'}, 'acquire3': {'operates': {'qubits': [3]}, 'purpose': 'acquire', 'type': 'acquire'}, 'acquire4': {'operates': {'qubits': [4]}, 'purpose': 'acquire', 'type': 'acquire'}, 'd0': {'operates': {'qubits': [0]}, 'purpose': 'drive', 'type': 'drive'}, 'd1': {'operates': {'qubits': [1]}, 'purpose': 'drive', 'type': 'drive'}, 'd2': {'operates': {'qubits': [2]}, 'purpose': 'drive', 'type': 'drive'}, 'd3': {'operates': {'qubits': [3]}, 'purpose': 'drive', 'type': 'drive'}, 'd4': {'operates': {'qubits': [4]}, 'purpose': 'drive', 'type': 'drive'}, 'm0': {'operates': {'qubits': [0]}, 'purpose': 'measure', 'type': 'measure'}, 'm1': {'operates': {'qubits': [1]}, 'purpose': 'measure', 'type': 'measure'}, 'm2': {'operates': {'qubits': [2]}, 'purpose': 'measure', 'type': 'measure'}, 'm3': {'operates': {'qubits': [3]}, 'purpose': 'measure', 'type': 'measure'}, 'm4': {'operates': {'qubits': [4]}, 'purpose': 'measure', 'type': 'measure'}, 'u0': {'operates': {'qubits': [0, 1]}, 'purpose': 'cross-resonance', 'type': 'control'}, 'u1': {'operates': {'qubits': [1, 0]}, 'purpose': 'cross-resonance', 'type': 'control'}, 'u2': {'operates': {'qubits': [1, 2]}, 'purpose': 'cross-resonance', 'type': 'control'}, 'u3': {'operates': {'qubits': [1, 3]}, 'purpose': 'cross-resonance', 'type': 'control'}, 'u4': {'operates': {'qubits': [2, 1]}, 'purpose': 'cross-resonance', 'type': 'control'}, 'u5': {'operates': {'qubits': [3, 1]}, 'purpose': 'cross-resonance', 'type': 'control'}, 'u6': {'operates': {'qubits': [3, 4]}, 'purpose': 'cross-resonance', 'type': 'control'}, 'u7': {'operates': {'qubits': [4, 3]}, 'purpose': 'cross-resonance', 'type': 'control'}}</td></tr><tr><td>conditional</td><td>False</td></tr><tr><td>dt</td><td>0.2222222222222222</td></tr><tr><td>clops</td><td>2673</td></tr><tr><td>meas_levels</td><td>[1, 2]</td></tr><tr><td>credits_required</td><td>True</td></tr></table>"
      }
     },
     "40332da2630c45d4808a46cb9ae2be9b": {
      "model_module": "@jupyter-widgets/base",
      "model_module_version": "1.2.0",
      "model_name": "LayoutModel",
      "state": {
       "grid_area": "left",
       "width": "100%"
      }
     },
     "4051753a716c40fbbc513826fc7ef9ec": {
      "model_module": "@jupyter-widgets/controls",
      "model_module_version": "1.5.0",
      "model_name": "DescriptionStyleModel",
      "state": {
       "description_width": ""
      }
     },
     "41ab2eac58604c69952d3f4de8405ae1": {
      "model_module": "@jupyter-widgets/controls",
      "model_module_version": "1.5.0",
      "model_name": "VBoxModel",
      "state": {
       "children": [
        "IPY_MODEL_3ca67884d57a4dbb83a9e69a766bea7c",
        "IPY_MODEL_943f82766ac14812aae1381210b90909"
       ],
       "layout": "IPY_MODEL_1e1831b619324b2194ff5bde9af7914e"
      }
     },
     "4266e23edb874150b3fa00a335d599e4": {
      "model_module": "@jupyter-widgets/controls",
      "model_module_version": "1.5.0",
      "model_name": "HTMLModel",
      "state": {
       "layout": "IPY_MODEL_68e642ffcdaa402f950e6230d11b5a25",
       "style": "IPY_MODEL_52c47e27905d4679932013d5406cb004",
       "value": "<p style='font-family: IBM Plex Sans, Arial, Helvetica, sans-serif; font-size: 20px; font-weight: medium;'>Circuit Properties</p>"
      }
     },
     "43149d9c316c4229957418bd04871eae": {
      "model_module": "@jupyter-widgets/controls",
      "model_module_version": "1.5.0",
      "model_name": "DescriptionStyleModel",
      "state": {
       "description_width": ""
      }
     },
     "43232cb05fed44ce80293e89c0fc6d6d": {
      "model_module": "@jupyter-widgets/controls",
      "model_module_version": "1.5.0",
      "model_name": "GridBoxModel",
      "state": {
       "children": [
        "IPY_MODEL_8f6ab63fb0c34b0a9ab5d81175867a8f",
        "IPY_MODEL_8455a4b85e2741e2baf3eea1438c02a4",
        "IPY_MODEL_72d081e51fdc4ecb84a99c3a76ab09d7",
        "IPY_MODEL_a2e7c6d426714e7398cc884c4e850914"
       ],
       "layout": "IPY_MODEL_59567da7434549cebc9eec1a91f8bd00"
      }
     },
     "447b897041a941bd938a67ba5592c260": {
      "model_module": "@jupyter-widgets/base",
      "model_module_version": "1.2.0",
      "model_name": "LayoutModel",
      "state": {
       "width": "95px"
      }
     },
     "455dc1c888e247dbb307a87c7004814c": {
      "model_module": "@jupyter-widgets/base",
      "model_module_version": "1.2.0",
      "model_name": "LayoutModel",
      "state": {
       "grid_gap": "0px 0px",
       "grid_template_areas": "\n                                                   \"top top top\"\n                                                   \"left middle right\"\n                                                   ",
       "grid_template_columns": "33% 33% 33%",
       "grid_template_rows": "auto auto"
      }
     },
     "4565d584479b4a7e8c69439cb2ad0619": {
      "model_module": "@jupyter-widgets/controls",
      "model_module_version": "1.5.0",
      "model_name": "DescriptionStyleModel",
      "state": {
       "description_width": ""
      }
     },
     "46dc4d634d714469afaeefb8e8bd1d26": {
      "model_module": "@jupyter-widgets/base",
      "model_module_version": "1.2.0",
      "model_name": "LayoutModel",
      "state": {
       "align_items": "center",
       "display": "flex-inline",
       "min_height": "400px"
      }
     },
     "478af3a13a174baaa95ffca95cfc201f": {
      "model_module": "@jupyter-widgets/controls",
      "model_module_version": "1.5.0",
      "model_name": "DescriptionStyleModel",
      "state": {
       "description_width": ""
      }
     },
     "4bf835638f9d431ebc50ce810e46be77": {
      "model_module": "@jupyter-widgets/base",
      "model_module_version": "1.2.0",
      "model_name": "LayoutModel",
      "state": {
       "grid_area": "middle"
      }
     },
     "4ee3df180cca4cb59cec9b43ab2b2aeb": {
      "model_module": "@jupyter-widgets/controls",
      "model_module_version": "1.5.0",
      "model_name": "GridBoxModel",
      "state": {
       "children": [
        "IPY_MODEL_d4c9a9a089b44be4976dacff4ac873f4",
        "IPY_MODEL_87c839540bb7440984a35d2f3916fc43",
        "IPY_MODEL_cf07060fc86a4f69927f91a1b87a2a06"
       ],
       "layout": "IPY_MODEL_3279fdae71e345c7a5c541b2dcab4760"
      }
     },
     "4fa8b16952b84034b09eff9987c0c82b": {
      "model_module": "@jupyter-widgets/base",
      "model_module_version": "1.2.0",
      "model_name": "LayoutModel",
      "state": {
       "border": "4px solid #000000",
       "max_height": "650px",
       "min_height": "650px",
       "overflow_y": "hidden"
      }
     },
     "504eb59d81214ecc8a503033eb56a6d9": {
      "model_module": "@jupyter-widgets/base",
      "model_module_version": "1.2.0",
      "model_name": "LayoutModel",
      "state": {
       "width": "145px"
      }
     },
     "517b99dc15f04a4e99022b470f8a441d": {
      "model_module": "@jupyter-widgets/controls",
      "model_module_version": "1.5.0",
      "model_name": "HTMLModel",
      "state": {
       "layout": "IPY_MODEL_06fa3a5fd991452dace8dbbb49fccc9a",
       "style": "IPY_MODEL_4051753a716c40fbbc513826fc7ef9ec",
       "value": "<table><style>\ntable {\n    border-collapse: collapse;\n    width: auto;\n}\n\nth, td {\n    text-align: left;\n    padding: 8px;\n}\n\ntr:nth-child(even) {background-color: #f6f6f6;}\n</style><tr><th></th><th>Frequency</th><th>T1</th><th>T2</th><th>RZ</th><th>SX</th><th>X</th><th>Readout error</th></tr><tr><td><font style='font-weight:bold'>Q0</font></td><td>5.02976 GHz</td><td>95.59076 us</td><td>141.47314 us</td><td>0</td><td>0.00046</td><td>0.00046</td><td>0.0197 </td><tr><td><font style='font-weight:bold'>Q1</font></td><td>5.12773 GHz</td><td>47.78226 us</td><td>69.64744 us</td><td>0</td><td>0.00027</td><td>0.00027</td><td>0.0196 </td><tr><td><font style='font-weight:bold'>Q2</font></td><td>5.24735 GHz</td><td>56.92441 us</td><td>80.15976 us</td><td>0</td><td>0.00039</td><td>0.00039</td><td>0.0239 </td><tr><td><font style='font-weight:bold'>Q3</font></td><td>5.30257 GHz</td><td>70.94124 us</td><td>98.5022 us</td><td>0</td><td>0.00027</td><td>0.00027</td><td>0.0266 </td><tr><td><font style='font-weight:bold'>Q4</font></td><td>5.09203 GHz</td><td>20.73377 us</td><td>18.86794 us</td><td>0</td><td>0.00061</td><td>0.00061</td><td>0.052 </td></table>"
      }
     },
     "519111d66bfd404899acd669a53b4f8c": {
      "model_module": "@jupyter-widgets/controls",
      "model_module_version": "1.5.0",
      "model_name": "DescriptionStyleModel",
      "state": {
       "description_width": ""
      }
     },
     "52195c487f8d40eba3a23c6239082a81": {
      "model_module": "@jupyter-widgets/controls",
      "model_module_version": "1.5.0",
      "model_name": "HBoxModel",
      "state": {
       "children": [
        "IPY_MODEL_98cef4e2d8da45f080883e851b7dad33",
        "IPY_MODEL_651523185742451993fa5b4db8ea7c9f",
        "IPY_MODEL_63d04d8e91594292ba6929d34752e48e",
        "IPY_MODEL_dcf36c07eaa740ce94dc31845c850c9a",
        "IPY_MODEL_30b5a13bbc2c4ec29fde50e67f6c75bf",
        "IPY_MODEL_639c258c578a4084aff9a10e91b26813"
       ],
       "layout": "IPY_MODEL_b63617dcdd5d4f40ac45e08dc71e72ea"
      }
     },
     "52c47e27905d4679932013d5406cb004": {
      "model_module": "@jupyter-widgets/controls",
      "model_module_version": "1.5.0",
      "model_name": "DescriptionStyleModel",
      "state": {
       "description_width": ""
      }
     },
     "54a0556fb1fe4faa94a16a2c6ff9539e": {
      "model_module": "@jupyter-widgets/base",
      "model_module_version": "1.2.0",
      "model_name": "LayoutModel",
      "state": {
       "align_items": "center",
       "display": "flex-inline"
      }
     },
     "563f57901e8e467ea664d6e2ea97fad4": {
      "model_module": "@jupyter-widgets/controls",
      "model_module_version": "1.5.0",
      "model_name": "HTMLModel",
      "state": {
       "layout": "IPY_MODEL_c7ab6e2d03c543c9b1edd5787a4083df",
       "style": "IPY_MODEL_cfa3a8081f7d4adf9221050c6406fb21",
       "value": "-"
      }
     },
     "56a65a6f9ebb4a40b5d7d4ce60cf1289": {
      "model_module": "@jupyter-widgets/controls",
      "model_module_version": "1.5.0",
      "model_name": "ButtonStyleModel",
      "state": {
       "button_color": "white"
      }
     },
     "56b5cd3e1a19410d9edb44d8af7aa618": {
      "model_module": "@jupyter-widgets/base",
      "model_module_version": "1.2.0",
      "model_name": "LayoutModel",
      "state": {
       "margin": "0px 5px 0px 0px",
       "width": "32px"
      }
     },
     "57f199655abb4ebf972185a9b87df484": {
      "model_module": "@jupyter-widgets/controls",
      "model_module_version": "1.5.0",
      "model_name": "DescriptionStyleModel",
      "state": {
       "description_width": ""
      }
     },
     "58585e86b1334467ab32e6993566ad6d": {
      "model_module": "@jupyter-widgets/controls",
      "model_module_version": "1.5.0",
      "model_name": "HTMLModel",
      "state": {
       "layout": "IPY_MODEL_d12a982a4327402593158c657372e36a",
       "style": "IPY_MODEL_3490222199114995aebff78a67699454",
       "value": "job has successfully run"
      }
     },
     "58ccc5d546e44998ab9c575069c759df": {
      "model_module": "@jupyter-widgets/output",
      "model_module_version": "1.0.0",
      "model_name": "OutputModel",
      "state": {
       "layout": "IPY_MODEL_ec11d01e80984f608895850498a9acf4",
       "outputs": [
        {
         "data": {
          "image/png": "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\n",
          "text/plain": "<Figure size 360x360 with 1 Axes>"
         },
         "metadata": {},
         "output_type": "display_data"
        }
       ]
      }
     },
     "59567da7434549cebc9eec1a91f8bd00": {
      "model_module": "@jupyter-widgets/base",
      "model_module_version": "1.2.0",
      "model_name": "LayoutModel",
      "state": {
       "grid_gap": "0px 0px",
       "grid_template_areas": "\n                                                   \"top top top\"\n                                                   \"left middle right\"\n                                                   ",
       "grid_template_columns": "33% 33% 33%",
       "grid_template_rows": "auto auto"
      }
     },
     "5c678ef5adfb403ca0799ea30065e400": {
      "model_module": "@jupyter-widgets/controls",
      "model_module_version": "1.5.0",
      "model_name": "DescriptionStyleModel",
      "state": {
       "description_width": ""
      }
     },
     "5d81bd52460d437d9f11fda4111a7927": {
      "model_module": "@jupyter-widgets/base",
      "model_module_version": "1.2.0",
      "model_name": "LayoutModel",
      "state": {
       "grid_area": "left"
      }
     },
     "5eae96d97e324736942dae8f59602336": {
      "model_module": "@jupyter-widgets/controls",
      "model_module_version": "1.5.0",
      "model_name": "HTMLModel",
      "state": {
       "layout": "IPY_MODEL_5d81bd52460d437d9f11fda4111a7927",
       "style": "IPY_MODEL_8b7984f95caf44ce81beb91fae94927c",
       "value": "<table><style>\ntable {\n    border-collapse: collapse;\n    width: auto;\n}\n\nth, td {\n    text-align: left;\n    padding: 8px;\n}\n\ntr:nth-child(even) {background-color: #f6f6f6;};\n</style><tr><th></th><th>Type</th><th>Gate error</th></tr><tr><td><font style='font-weight:bold'>cx4_3</font></td><td>cx</td><td>0.01582</td></tr><tr><td><font style='font-weight:bold'>cx3_4</font></td><td>cx</td><td>0.01582</td></tr><tr><td><font style='font-weight:bold'>cx0_1</font></td><td>cx</td><td>0.00789</td></tr></table>"
      }
     },
     "5f914bed51ca437e94202a77431448a4": {
      "model_module": "@jupyter-widgets/base",
      "model_module_version": "1.2.0",
      "model_name": "LayoutModel",
      "state": {
       "width": "95px"
      }
     },
     "5fc464414ac6468e9f1012c5c7f9a25a": {
      "model_module": "@jupyter-widgets/base",
      "model_module_version": "1.2.0",
      "model_name": "LayoutModel",
      "state": {
       "width": "70px"
      }
     },
     "6047095088a3433c9ab512530bb19864": {
      "model_module": "@jupyter-widgets/base",
      "model_module_version": "1.2.0",
      "model_name": "LayoutModel",
      "state": {
       "align_items": "center",
       "display": "flex-inline"
      }
     },
     "607e65b3a9f74144ae9083ff6fa514f7": {
      "model_module": "@jupyter-widgets/controls",
      "model_module_version": "1.5.0",
      "model_name": "HTMLModel",
      "state": {
       "layout": "IPY_MODEL_d30bfb5dfc4a48a885d62b23dda324e8",
       "style": "IPY_MODEL_57f199655abb4ebf972185a9b87df484",
       "value": "<div><font style='font-weight:bold'>last_update_date</font>: 2023-01-11 06:03:56+00:00</div>"
      }
     },
     "609f926576d940509f310ca7bcaa2418": {
      "model_module": "@jupyter-widgets/base",
      "model_module_version": "1.2.0",
      "model_name": "LayoutModel",
      "state": {
       "align_items": "center",
       "display": "flex-inline"
      }
     },
     "60d2fea51e3f4f70903d033be96b86b8": {
      "model_module": "@jupyter-widgets/controls",
      "model_module_version": "1.5.0",
      "model_name": "HTMLModel",
      "state": {
       "layout": "IPY_MODEL_504eb59d81214ecc8a503033eb56a6d9",
       "style": "IPY_MODEL_43149d9c316c4229957418bd04871eae",
       "value": "ibmq_quito"
      }
     },
     "61af63596a4c402f8cf932315550d4e9": {
      "model_module": "@jupyter-widgets/base",
      "model_module_version": "1.2.0",
      "model_name": "LayoutModel",
      "state": {}
     },
     "62ad4ea1c397407d8979a1562a3350d0": {
      "model_module": "@jupyter-widgets/controls",
      "model_module_version": "1.5.0",
      "model_name": "DescriptionStyleModel",
      "state": {
       "description_width": ""
      }
     },
     "639c258c578a4084aff9a10e91b26813": {
      "model_module": "@jupyter-widgets/controls",
      "model_module_version": "1.5.0",
      "model_name": "HTMLModel",
      "state": {
       "layout": "IPY_MODEL_a02191f584be4780b67cbb502f2b8b86",
       "style": "IPY_MODEL_36acd27a067b4df1babadcb44ca2bdff",
       "value": "job has successfully run"
      }
     },
     "63d04d8e91594292ba6929d34752e48e": {
      "model_module": "@jupyter-widgets/controls",
      "model_module_version": "1.5.0",
      "model_name": "HTMLModel",
      "state": {
       "layout": "IPY_MODEL_239283c651a942409093924aed88f59e",
       "style": "IPY_MODEL_2492e0bc9a3f48eeb59302fa59bb33bc",
       "value": "ibmq_quito"
      }
     },
     "645e49d0cabd4eb3a902c774cb11406c": {
      "model_module": "@jupyter-widgets/controls",
      "model_module_version": "1.5.0",
      "model_name": "GridBoxModel",
      "state": {
       "children": [
        "IPY_MODEL_d0124a8c2e4c453e9acb488dbd196d11",
        "IPY_MODEL_f8166caf05da480b84a917b5adec27e8",
        "IPY_MODEL_80ddb5e17188480087eb5fe692410b59"
       ],
       "layout": "IPY_MODEL_c375a82c9188417eb59c59d158b0b699"
      }
     },
     "651523185742451993fa5b4db8ea7c9f": {
      "model_module": "@jupyter-widgets/controls",
      "model_module_version": "1.5.0",
      "model_name": "HTMLModel",
      "state": {
       "layout": "IPY_MODEL_17ec4a2c5cbc437e934afe1b41d2de0f",
       "style": "IPY_MODEL_478af3a13a174baaa95ffca95cfc201f",
       "value": "63bf8dba19e6ff21e5047e61"
      }
     },
     "653854541a12417dbd8db4039763c566": {
      "model_module": "@jupyter-widgets/controls",
      "model_module_version": "1.5.0",
      "model_name": "HTMLModel",
      "state": {
       "layout": "IPY_MODEL_125ca8f31be243e593cbd6a5acd3174a",
       "style": "IPY_MODEL_259dc129bb744aabb349401040987623",
       "value": "<font style='color:#34BC6E'>DONE</font>"
      }
     },
     "661c27d77a774ec5a59c2bc98e516b41": {
      "model_module": "@jupyter-widgets/base",
      "model_module_version": "1.2.0",
      "model_name": "LayoutModel",
      "state": {
       "grid_area": "top"
      }
     },
     "665930df33d34080a2fe86ad755f7e1f": {
      "model_module": "@jupyter-widgets/controls",
      "model_module_version": "1.5.0",
      "model_name": "HBoxModel",
      "state": {
       "children": [
        "IPY_MODEL_2eec842c7644493196b4c2ab37aeaaa6",
        "IPY_MODEL_c6c94a109cb248548a8625af2a07c067",
        "IPY_MODEL_7f3928c94be94793af52673dd678aa5f",
        "IPY_MODEL_12d5ce4c4b46497683f6f053cee1fb65",
        "IPY_MODEL_a7e018f882294d8eb2040a57b26b772d"
       ],
       "layout": "IPY_MODEL_99a990a1d498442185a7af8ca40e5915"
      }
     },
     "68e642ffcdaa402f950e6230d11b5a25": {
      "model_module": "@jupyter-widgets/base",
      "model_module_version": "1.2.0",
      "model_name": "LayoutModel",
      "state": {
       "margin": "0px 0px 10px 0px"
      }
     },
     "69600096a7a140f0a72c21f4e513d8a0": {
      "model_module": "@jupyter-widgets/base",
      "model_module_version": "1.2.0",
      "model_name": "LayoutModel",
      "state": {
       "border": "4px solid #000000",
       "max_height": "650px",
       "min_height": "650px",
       "overflow_y": "hidden"
      }
     },
     "6b16022a52c44129811a97b8ec19bde3": {
      "model_module": "@jupyter-widgets/base",
      "model_module_version": "1.2.0",
      "model_name": "LayoutModel",
      "state": {
       "grid_area": "right"
      }
     },
     "6bf7f569648144eb9a6cfc1dca0514e9": {
      "model_module": "@jupyter-widgets/controls",
      "model_module_version": "1.5.0",
      "model_name": "DescriptionStyleModel",
      "state": {
       "description_width": ""
      }
     },
     "6c4611415a7041ea9cc1dc0d69366e20": {
      "model_module": "@jupyter-widgets/base",
      "model_module_version": "1.2.0",
      "model_name": "LayoutModel",
      "state": {
       "width": "95px"
      }
     },
     "6cdb70289486496da01ab6ca4be6f010": {
      "model_module": "@jupyter-widgets/controls",
      "model_module_version": "1.5.0",
      "model_name": "DescriptionStyleModel",
      "state": {
       "description_width": ""
      }
     },
     "6d1a9232540c48ad8604523c94626cfa": {
      "model_module": "@jupyter-widgets/base",
      "model_module_version": "1.2.0",
      "model_name": "LayoutModel",
      "state": {
       "grid_area": "bottom",
       "width": "auto"
      }
     },
     "6f3a07c227894aa089b5c8b0a43b0828": {
      "model_module": "@jupyter-widgets/controls",
      "model_module_version": "1.5.0",
      "model_name": "DescriptionStyleModel",
      "state": {
       "description_width": ""
      }
     },
     "6f9204cd82ca40f18fb99c26dcc9dfd1": {
      "model_module": "@jupyter-widgets/controls",
      "model_module_version": "1.5.0",
      "model_name": "HTMLModel",
      "state": {
       "layout": "IPY_MODEL_907eda0dbbde4fe1a56ec28a0fd4e2c4",
       "style": "IPY_MODEL_0bbe3139b58d427e85e35b2d1efff85a",
       "value": "<table><style>\ntable {\n    border-collapse: collapse;\n    width: auto;\n}\n\nth, td {\n    text-align: left;\n    padding: 8px;\n}\n\ntr:nth-child(even) {background-color: #f6f6f6;}\n</style><tr><th></th><th>Frequency</th><th>T1</th><th>T2</th><th>RZ</th><th>SX</th><th>X</th><th>Readout error</th></tr><tr><td><font style='font-weight:bold'>Q0</font></td><td>5.30062 GHz</td><td>51.72743 us</td><td>128.71752 us</td><td>0</td><td>0.00026</td><td>0.00026</td><td>0.0414 </td><tr><td><font style='font-weight:bold'>Q1</font></td><td>5.08057 GHz</td><td>108.03681 us</td><td>110.4739 us</td><td>0</td><td>0.00041</td><td>0.00041</td><td>0.0336 </td><tr><td><font style='font-weight:bold'>Q2</font></td><td>5.32218 GHz</td><td>68.98446 us</td><td>84.70136 us</td><td>0</td><td>0.00043</td><td>0.00043</td><td>0.0656 </td><tr><td><font style='font-weight:bold'>Q3</font></td><td>5.16362 GHz</td><td>108.30413 us</td><td>17.85565 us</td><td>0</td><td>0.0003</td><td>0.0003</td><td>0.0317 </td><tr><td><font style='font-weight:bold'>Q4</font></td><td>5.05234 GHz</td><td>75.59789 us</td><td>109.78536 us</td><td>0</td><td>0.00036</td><td>0.00036</td><td>0.0381 </td></table>"
      }
     },
     "714657cc22244ffdb765d1f4342e01f3": {
      "model_module": "@jupyter-widgets/controls",
      "model_module_version": "1.5.0",
      "model_name": "GridBoxModel",
      "state": {
       "children": [
        "IPY_MODEL_607e65b3a9f74144ae9083ff6fa514f7",
        "IPY_MODEL_dbbbeb5287ee42a897c873a8e1a29c3a",
        "IPY_MODEL_0d2259c711574cac803484dbd8ad757a",
        "IPY_MODEL_cf45e6df3658433b9ff45e756d02d7fb"
       ],
       "layout": "IPY_MODEL_da13ab5d50c54c60bdac31edffef631e"
      }
     },
     "72d081e51fdc4ecb84a99c3a76ab09d7": {
      "model_module": "@jupyter-widgets/controls",
      "model_module_version": "1.5.0",
      "model_name": "HTMLModel",
      "state": {
       "layout": "IPY_MODEL_4bf835638f9d431ebc50ce810e46be77",
       "style": "IPY_MODEL_a4dedf6c4c3d485e9033d992261a8576",
       "value": "<table><style>\ntable {\n    border-collapse: collapse;\n    width: auto;\n}\n\nth, td {\n    text-align: left;\n    padding: 8px;\n}\n\ntr:nth-child(even) {background-color: #f6f6f6;};\n</style><tr><th></th><th>Type</th><th>Gate error</th></tr><tr><td><font style='font-weight:bold'>cx1_0</font></td><td>cx</td><td>0.00789</td></tr><tr><td><font style='font-weight:bold'>cx3_1</font></td><td>cx</td><td>0.01365</td></tr><tr><td><font style='font-weight:bold'>cx1_3</font></td><td>cx</td><td>0.01365</td></tr></table>"
      }
     },
     "74f495c479004c5980564fa2cd84bcba": {
      "model_module": "@jupyter-widgets/controls",
      "model_module_version": "1.5.0",
      "model_name": "TabModel",
      "state": {
       "_titles": {
        "0": "Configuration",
        "1": "Qubit Properties",
        "2": "Multi-Qubit Gates",
        "3": "Error Map",
        "4": "Job History"
       },
       "children": [
        "IPY_MODEL_4ee3df180cca4cb59cec9b43ab2b2aeb",
        "IPY_MODEL_02b2fd1de8d1483bb8e6224e14e30235",
        "IPY_MODEL_714657cc22244ffdb765d1f4342e01f3",
        "IPY_MODEL_bdbf6298c322416d9991dc6fbe1849c8",
        "IPY_MODEL_9e151932bec3412b9cfed019fde7f1ad"
       ],
       "layout": "IPY_MODEL_04dd9ae3ee1c4e5fa5c23dbd5361320a",
       "selected_index": 3
      }
     },
     "750cf3d6214d487097885759b12e193f": {
      "model_module": "@jupyter-widgets/controls",
      "model_module_version": "1.5.0",
      "model_name": "DescriptionStyleModel",
      "state": {
       "description_width": ""
      }
     },
     "76d623200b9343a2ad6c36ce98a69b0f": {
      "model_module": "@jupyter-widgets/base",
      "model_module_version": "1.2.0",
      "model_name": "LayoutModel",
      "state": {
       "align_items": "center",
       "display": "flex-inline"
      }
     },
     "77ca2df10b274af1b418bf605f772e4b": {
      "model_module": "@jupyter-widgets/output",
      "model_module_version": "1.0.0",
      "model_name": "OutputModel",
      "state": {
       "layout": "IPY_MODEL_54a0556fb1fe4faa94a16a2c6ff9539e",
       "outputs": [
        {
         "data": {
          "image/png": "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\n",
          "text/plain": "<Figure size 792x648 with 5 Axes>"
         },
         "metadata": {},
         "output_type": "display_data"
        }
       ]
      }
     },
     "77cb06cbb0b649a68b8aca8b6eb58526": {
      "model_module": "@jupyter-widgets/base",
      "model_module_version": "1.2.0",
      "model_name": "LayoutModel",
      "state": {
       "grid_area": "middle"
      }
     },
     "78d96ce82b654edbb527841089fb67fe": {
      "model_module": "@jupyter-widgets/controls",
      "model_module_version": "1.5.0",
      "model_name": "DescriptionStyleModel",
      "state": {
       "description_width": ""
      }
     },
     "796b670bd9b44454970c772094c6f21f": {
      "model_module": "@jupyter-widgets/controls",
      "model_module_version": "1.5.0",
      "model_name": "GridBoxModel",
      "state": {
       "children": [
        "IPY_MODEL_f7c2aa4769914be5a4319dd942540568",
        "IPY_MODEL_a4691906f1274962a83dcfa46432c14d",
        "IPY_MODEL_fc600885802f4fe88eb342267032e167",
        "IPY_MODEL_0b8034a29d1841e0be11f1fb90ef478e"
       ],
       "layout": "IPY_MODEL_f649dd599857492ab5d92fdc7144d690"
      }
     },
     "7bb7f9f03de84d57baa1d8b9f459c400": {
      "model_module": "@jupyter-widgets/base",
      "model_module_version": "1.2.0",
      "model_name": "LayoutModel",
      "state": {
       "margin": "0px 0px 0px 0px"
      }
     },
     "7befbc97c94d41c6ae39f4df04a1ac08": {
      "model_module": "@jupyter-widgets/controls",
      "model_module_version": "1.5.0",
      "model_name": "HTMLModel",
      "state": {
       "layout": "IPY_MODEL_7ea8d5dc61e2406e9e948a1c18b1a10b",
       "style": "IPY_MODEL_bc382e5589da49acbf27a1fce52277dd",
       "value": "<div><font style='font-weight:bold'>last_update_date</font>: Wed 11 January 2023 at 06:00 UTC</div>"
      }
     },
     "7c29021d5c8d4fe49b46dda04b8eac4c": {
      "model_module": "@jupyter-widgets/controls",
      "model_module_version": "1.5.0",
      "model_name": "DescriptionStyleModel",
      "state": {
       "description_width": ""
      }
     },
     "7ce81c23adc64ec893574e7522b49aca": {
      "model_module": "@jupyter-widgets/controls",
      "model_module_version": "1.5.0",
      "model_name": "HTMLModel",
      "state": {
       "layout": "IPY_MODEL_87ebb42ce8c64254aaf7a411282ae4e4",
       "style": "IPY_MODEL_b15a27648db144a1a66c365c32e5ac2f",
       "value": "63bf8ded19e6ff5eb3047e64"
      }
     },
     "7d181e7a4a3f44459946eae14a878f1a": {
      "model_module": "@jupyter-widgets/base",
      "model_module_version": "1.2.0",
      "model_name": "LayoutModel",
      "state": {
       "align_items": "center",
       "display": "flex-inline",
       "min_height": "400px"
      }
     },
     "7d84353c80db49fe91a83f129007ae4c": {
      "model_module": "@jupyter-widgets/controls",
      "model_module_version": "1.5.0",
      "model_name": "VBoxModel",
      "state": {
       "children": [
        "IPY_MODEL_de2bc47961cb4e53aebe6a2688bc0b55",
        "IPY_MODEL_bc7cc3922eca4272b5262d0be9b600ae"
       ],
       "layout": "IPY_MODEL_4fa8b16952b84034b09eff9987c0c82b"
      }
     },
     "7ea8d5dc61e2406e9e948a1c18b1a10b": {
      "model_module": "@jupyter-widgets/base",
      "model_module_version": "1.2.0",
      "model_name": "LayoutModel",
      "state": {}
     },
     "7f3562f8397541b589055471cf6d93c6": {
      "model_module": "@jupyter-widgets/controls",
      "model_module_version": "1.5.0",
      "model_name": "HTMLModel",
      "state": {
       "layout": "IPY_MODEL_97171c0576b740cf8079dc37d5d03495",
       "style": "IPY_MODEL_210f9951603a4eaf806c495b55279244",
       "value": "<div><font style='font-weight:bold'>last_update_date</font>: Wed 11 January 2023 at 06:00 UTC</div>"
      }
     },
     "7f3928c94be94793af52673dd678aa5f": {
      "model_module": "@jupyter-widgets/controls",
      "model_module_version": "1.5.0",
      "model_name": "HTMLModel",
      "state": {
       "layout": "IPY_MODEL_447b897041a941bd938a67ba5592c260",
       "style": "IPY_MODEL_de14899f76364c2981be792d05f1bb99",
       "value": "<h5>Status</h5>"
      }
     },
     "809b8ae98bf64c61ba3c4f34c8745497": {
      "model_module": "@jupyter-widgets/controls",
      "model_module_version": "1.5.0",
      "model_name": "ButtonStyleModel",
      "state": {
       "button_color": "white"
      }
     },
     "80ddb5e17188480087eb5fe692410b59": {
      "model_module": "@jupyter-widgets/controls",
      "model_module_version": "1.5.0",
      "model_name": "HTMLMathModel",
      "state": {
       "layout": "IPY_MODEL_d3cb81ca4e274409b004be8ed70a1107",
       "style": "IPY_MODEL_8b6b73d07ca74a1aa17f60c3f4c90d05",
       "value": "<table><style>\ntable {\n    border-collapse: collapse;\n    width: auto;\n}\n\nth, td {\n    text-align: left;\n    padding: 8px;\n}\n\ntr:nth-child(even) {background-color: #f6f6f6;}\n</style><tr><th></th><th></th></tr><tr><td>memory</td><td>True</td></tr><tr><td>qubit_lo_range</td><td>[[4.529755470194274, 5.529755470194274], [4.627731950559698, 5.627731950559698], [4.747349626464536, 5.747349626464536], [4.802571209580754, 5.802571209580754], [4.592032543559681, 5.592032543559681]]</td></tr><tr><td>meas_kernels</td><td>['hw_boxcar']</td></tr><tr><td>pulse_num_qubits</td><td>3</td></tr><tr><td>parallel_compilation</td><td>False</td></tr><tr><td>dynamic_reprate_enabled</td><td>True</td></tr><tr><td>simulator</td><td>False</td></tr><tr><td>rep_delay_range</td><td>[0.0, 500.0]</td></tr><tr><td>live_data</td><td>False</td></tr><tr><td>meas_map</td><td>[[0, 1, 2, 3, 4]]</td></tr><tr><td>meas_lo_range</td><td>[[6.925143125000001, 7.925143125000001], [6.721646720000001, 7.721646720000001], [6.971842939, 7.971842939], [6.865317232000001, 7.865317232000001], [6.919067567000001, 7.919067567000001]]</td></tr><tr><td>allow_q_object</td><td>True</td></tr><tr><td>measure_esp_enabled</td><td>False</td></tr><tr><td>open_pulse</td><td>False</td></tr><tr><td>qubit_channel_mapping</td><td>[['m0', 'u1', 'u0', 'd0'], ['u0', 'u3', 'm1', 'u1', 'u4', 'u5', 'd1', 'u2'], ['m2', 'u4', 'd2', 'u2'], ['d3', 'm3', 'u3', 'u6', 'u5', 'u7'], ['u7', 'd4', 'm4', 'u6']]</td></tr><tr><td>supported_features</td><td>['qobj']</td></tr><tr><td>processor_type</td><td>{'family': 'Falcon', 'revision': 4, 'segment': 'T'}</td></tr><tr><td>supported_instructions</td><td>['cx', 'id', 'delay', 'measure', 'reset', 'rz', 'sx', 'x']</td></tr><tr><td>allow_object_storage</td><td>True</td></tr><tr><td>hamiltonian</td><td>$$\\begin{align} \\mathcal{H}/\\hbar = & \\sum_{i=0}^{4}\\left(\\frac{\\omega_{q,i}}{2}(\\mathbb{I}-\\sigma_i^{z})+\\frac{\\Delta_{i}}{2}(O_i^2-O_i)+\\Omega_{d,i}D_i(t)\\sigma_i^{X}\\right) \\\\ & + J_{0,1}(\\sigma_{0}^{+}\\sigma_{1}^{-}+\\sigma_{0}^{-}\\sigma_{1}^{+}) + J_{1,2}(\\sigma_{1}^{+}\\sigma_{2}^{-}+\\sigma_{1}^{-}\\sigma_{2}^{+}) + J_{1,3}(\\sigma_{1}^{+}\\sigma_{3}^{-}+\\sigma_{1}^{-}\\sigma_{3}^{+}) + J_{3,4}(\\sigma_{3}^{+}\\sigma_{4}^{-}+\\sigma_{3}^{-}\\sigma_{4}^{+}) \\\\ & + \\Omega_{d,0}(U_{0}^{(0,1)}(t))\\sigma_{0}^{X} + \\Omega_{d,1}(U_{1}^{(1,0)}(t)+U_{3}^{(1,3)}(t)+U_{2}^{(1,2)}(t))\\sigma_{1}^{X} \\\\ & + \\Omega_{d,2}(U_{4}^{(2,1)}(t))\\sigma_{2}^{X} + \\Omega_{d,3}(U_{6}^{(3,4)}(t)+U_{5}^{(3,1)}(t))\\sigma_{3}^{X} \\\\ & + \\Omega_{d,4}(U_{7}^{(4,3)}(t))\\sigma_{4}^{X} \\\\ \\end{align}$$</td></tr><tr><td>uchannels_enabled</td><td>True</td></tr><tr><td>timing_constraints</td><td>{'acquire_alignment': 16, 'granularity': 16, 'min_length': 64, 'pulse_alignment': 1}</td></tr><tr><td>url</td><td>None</td></tr><tr><td>dtm</td><td>0.2222222222222222</td></tr><tr><td>input_allowed</td><td>['job', 'runtime']</td></tr><tr><td>discriminators</td><td>['linear_discriminator', 'hw_centroid', 'quadratic_discriminator']</td></tr><tr><td>u_channel_lo</td><td>[[{'q': 1, 'scale': (1+0j)}], [{'q': 0, 'scale': (1+0j)}], [{'q': 2, 'scale': (1+0j)}], [{'q': 3, 'scale': (1+0j)}], [{'q': 1, 'scale': (1+0j)}], [{'q': 1, 'scale': (1+0j)}], [{'q': 4, 'scale': (1+0j)}], [{'q': 3, 'scale': (1+0j)}]]</td></tr><tr><td>acquisition_latency</td><td>[]</td></tr><tr><td>conditional_latency</td><td>[]</td></tr><tr><td>multi_meas_enabled</td><td>True</td></tr><tr><td>pulse_num_channels</td><td>9</td></tr><tr><td>local</td><td>False</td></tr><tr><td>backend_name</td><td>ibmq_lima</td></tr><tr><td>description</td><td>5 qubit device Lima</td></tr><tr><td>n_uchannels</td><td>8</td></tr><tr><td>default_rep_delay</td><td>250.0</td></tr><tr><td>sample_name</td><td>family: Falcon, revision: 4, segment: T</td></tr><tr><td>online_date</td><td>2021-01-08 05:00:00+00:00</td></tr><tr><td>coupling_map</td><td>[[0, 1], [1, 0], [1, 2], [1, 3], [2, 1], [3, 1], [3, 4], [4, 3]]</td></tr><tr><td>n_registers</td><td>1</td></tr><tr><td>parametric_pulses</td><td>['gaussian', 'gaussian_square', 'gaussian_square_drag', 'drag', 'constant']</td></tr><tr><td>rep_times</td><td>[1000.0]</td></tr><tr><td>channels</td><td>{'acquire0': {'operates': {'qubits': [0]}, 'purpose': 'acquire', 'type': 'acquire'}, 'acquire1': {'operates': {'qubits': [1]}, 'purpose': 'acquire', 'type': 'acquire'}, 'acquire2': {'operates': {'qubits': [2]}, 'purpose': 'acquire', 'type': 'acquire'}, 'acquire3': {'operates': {'qubits': [3]}, 'purpose': 'acquire', 'type': 'acquire'}, 'acquire4': {'operates': {'qubits': [4]}, 'purpose': 'acquire', 'type': 'acquire'}, 'd0': {'operates': {'qubits': [0]}, 'purpose': 'drive', 'type': 'drive'}, 'd1': {'operates': {'qubits': [1]}, 'purpose': 'drive', 'type': 'drive'}, 'd2': {'operates': {'qubits': [2]}, 'purpose': 'drive', 'type': 'drive'}, 'd3': {'operates': {'qubits': [3]}, 'purpose': 'drive', 'type': 'drive'}, 'd4': {'operates': {'qubits': [4]}, 'purpose': 'drive', 'type': 'drive'}, 'm0': {'operates': {'qubits': [0]}, 'purpose': 'measure', 'type': 'measure'}, 'm1': {'operates': {'qubits': [1]}, 'purpose': 'measure', 'type': 'measure'}, 'm2': {'operates': {'qubits': [2]}, 'purpose': 'measure', 'type': 'measure'}, 'm3': {'operates': {'qubits': [3]}, 'purpose': 'measure', 'type': 'measure'}, 'm4': {'operates': {'qubits': [4]}, 'purpose': 'measure', 'type': 'measure'}, 'u0': {'operates': {'qubits': [0, 1]}, 'purpose': 'cross-resonance', 'type': 'control'}, 'u1': {'operates': {'qubits': [1, 0]}, 'purpose': 'cross-resonance', 'type': 'control'}, 'u2': {'operates': {'qubits': [1, 2]}, 'purpose': 'cross-resonance', 'type': 'control'}, 'u3': {'operates': {'qubits': [1, 3]}, 'purpose': 'cross-resonance', 'type': 'control'}, 'u4': {'operates': {'qubits': [2, 1]}, 'purpose': 'cross-resonance', 'type': 'control'}, 'u5': {'operates': {'qubits': [3, 1]}, 'purpose': 'cross-resonance', 'type': 'control'}, 'u6': {'operates': {'qubits': [3, 4]}, 'purpose': 'cross-resonance', 'type': 'control'}, 'u7': {'operates': {'qubits': [4, 3]}, 'purpose': 'cross-resonance', 'type': 'control'}}</td></tr><tr><td>conditional</td><td>False</td></tr><tr><td>dt</td><td>0.2222222222222222</td></tr><tr><td>clops</td><td>2673</td></tr><tr><td>meas_levels</td><td>[1, 2]</td></tr><tr><td>credits_required</td><td>True</td></tr></table>"
      }
     },
     "81991ab70cfe47b8a0dc8f742d851898": {
      "model_module": "@jupyter-widgets/base",
      "model_module_version": "1.2.0",
      "model_name": "LayoutModel",
      "state": {
       "width": "95px"
      }
     },
     "8222367ba09c44e9aa1bd9c5e644c846": {
      "model_module": "@jupyter-widgets/controls",
      "model_module_version": "1.5.0",
      "model_name": "VBoxModel",
      "state": {
       "children": [
        "IPY_MODEL_8a9b277761c24b72b76563fdcc1c0f5d",
        "IPY_MODEL_517b99dc15f04a4e99022b470f8a441d"
       ],
       "layout": "IPY_MODEL_83f2b522e5b74aa08f1df33ffeea8eee"
      }
     },
     "83d69618241742258b581f88c6c2a88f": {
      "model_module": "@jupyter-widgets/base",
      "model_module_version": "1.2.0",
      "model_name": "LayoutModel",
      "state": {
       "grid_area": "left"
      }
     },
     "83f2b522e5b74aa08f1df33ffeea8eee": {
      "model_module": "@jupyter-widgets/base",
      "model_module_version": "1.2.0",
      "model_name": "LayoutModel",
      "state": {}
     },
     "8455a4b85e2741e2baf3eea1438c02a4": {
      "model_module": "@jupyter-widgets/controls",
      "model_module_version": "1.5.0",
      "model_name": "HTMLModel",
      "state": {
       "layout": "IPY_MODEL_15b34582103d49288013a441b2a74985",
       "style": "IPY_MODEL_c6011785c19c42509159e57ee1f75a0a",
       "value": "<table><style>\ntable {\n    border-collapse: collapse;\n    width: auto;\n}\n\nth, td {\n    text-align: left;\n    padding: 8px;\n}\n\ntr:nth-child(even) {background-color: #f6f6f6;};\n</style><tr><th></th><th>Type</th><th>Gate error</th></tr><tr><td><font style='font-weight:bold'>cx4_3</font></td><td>cx</td><td>0.01582</td></tr><tr><td><font style='font-weight:bold'>cx3_4</font></td><td>cx</td><td>0.01582</td></tr><tr><td><font style='font-weight:bold'>cx0_1</font></td><td>cx</td><td>0.00789</td></tr></table>"
      }
     },
     "8483689899914d15a71f6a17178a0aa0": {
      "model_module": "@jupyter-widgets/base",
      "model_module_version": "1.2.0",
      "model_name": "LayoutModel",
      "state": {
       "align_items": "center",
       "display": "flex-inline",
       "grid_area": "right",
       "max_height": "325px",
       "padding": "10px 10px 10px 10px",
       "width": "auto"
      }
     },
     "862873c19b25444aa30cd257bbecde69": {
      "model_module": "@jupyter-widgets/base",
      "model_module_version": "1.2.0",
      "model_name": "LayoutModel",
      "state": {}
     },
     "87c839540bb7440984a35d2f3916fc43": {
      "model_module": "@jupyter-widgets/output",
      "model_module_version": "1.0.0",
      "model_name": "OutputModel",
      "state": {
       "layout": "IPY_MODEL_943a8990c2344bcf9a3e56cd4794c57f",
       "outputs": [
        {
         "data": {
          "image/png": "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\n",
          "text/plain": "<Figure size 360x360 with 1 Axes>"
         },
         "metadata": {},
         "output_type": "display_data"
        }
       ]
      }
     },
     "87ebb42ce8c64254aaf7a411282ae4e4": {
      "model_module": "@jupyter-widgets/base",
      "model_module_version": "1.2.0",
      "model_name": "LayoutModel",
      "state": {
       "width": "190px"
      }
     },
     "8871bb0119114b6fa18614be978b9fcd": {
      "model_module": "@jupyter-widgets/base",
      "model_module_version": "1.2.0",
      "model_name": "LayoutModel",
      "state": {
       "grid_area": "bottom",
       "width": "auto"
      }
     },
     "8a9b277761c24b72b76563fdcc1c0f5d": {
      "model_module": "@jupyter-widgets/controls",
      "model_module_version": "1.5.0",
      "model_name": "HTMLModel",
      "state": {
       "layout": "IPY_MODEL_a2f01ee9fd9241c3abc3c3c547a7f2ac",
       "style": "IPY_MODEL_e9c7eb34d9ec44c1b9083226bedb7ac4",
       "value": "<div><font style='font-weight:bold'>last_update_date</font>: Wed 11 January 2023 at 06:00 UTC</div>"
      }
     },
     "8aabb9f6690041ffae65812fb33ca9b5": {
      "model_module": "@jupyter-widgets/base",
      "model_module_version": "1.2.0",
      "model_name": "LayoutModel",
      "state": {}
     },
     "8b6b73d07ca74a1aa17f60c3f4c90d05": {
      "model_module": "@jupyter-widgets/controls",
      "model_module_version": "1.5.0",
      "model_name": "DescriptionStyleModel",
      "state": {
       "description_width": ""
      }
     },
     "8b7984f95caf44ce81beb91fae94927c": {
      "model_module": "@jupyter-widgets/controls",
      "model_module_version": "1.5.0",
      "model_name": "DescriptionStyleModel",
      "state": {
       "description_width": ""
      }
     },
     "8b8fd3d5958f45f8948eb1ab8b030a93": {
      "model_module": "@jupyter-widgets/base",
      "model_module_version": "1.2.0",
      "model_name": "LayoutModel",
      "state": {
       "margin": "0px 5px 0px 0px",
       "width": "32px"
      }
     },
     "8cd108becd0e4fb9a5f9a18e440841ad": {
      "model_module": "@jupyter-widgets/controls",
      "model_module_version": "1.5.0",
      "model_name": "DescriptionStyleModel",
      "state": {
       "description_width": ""
      }
     },
     "8d0c061af6d0422da65ecec29e4dd94a": {
      "model_module": "@jupyter-widgets/controls",
      "model_module_version": "1.5.0",
      "model_name": "HTMLModel",
      "state": {
       "layout": "IPY_MODEL_5f914bed51ca437e94202a77431448a4",
       "style": "IPY_MODEL_adfd457318494035908b95d539586ff0",
       "value": "<font style='color:#34BC6E'>DONE</font>"
      }
     },
     "8f401ee3dbc5423ba900ba3d49f14eee": {
      "model_module": "@jupyter-widgets/controls",
      "model_module_version": "1.5.0",
      "model_name": "HTMLModel",
      "state": {
       "layout": "IPY_MODEL_9f1c358f7d2e434d8d425ec443feffcc",
       "style": "IPY_MODEL_9e6b031bb4004d389decb277fc621e5f",
       "value": "ibmq_quito"
      }
     },
     "8f6ab63fb0c34b0a9ab5d81175867a8f": {
      "model_module": "@jupyter-widgets/controls",
      "model_module_version": "1.5.0",
      "model_name": "HTMLModel",
      "state": {
       "layout": "IPY_MODEL_661c27d77a774ec5a59c2bc98e516b41",
       "style": "IPY_MODEL_519111d66bfd404899acd669a53b4f8c",
       "value": "<div><font style='font-weight:bold'>last_update_date</font>: 2023-01-11 06:00:08+00:00</div>"
      }
     },
     "907eda0dbbde4fe1a56ec28a0fd4e2c4": {
      "model_module": "@jupyter-widgets/base",
      "model_module_version": "1.2.0",
      "model_name": "LayoutModel",
      "state": {}
     },
     "92f95b50a8c2487a994e05bad0539279": {
      "model_module": "@jupyter-widgets/base",
      "model_module_version": "1.2.0",
      "model_name": "LayoutModel",
      "state": {
       "margin": "0px 5px 0px 0px",
       "width": "32px"
      }
     },
     "943a8990c2344bcf9a3e56cd4794c57f": {
      "model_module": "@jupyter-widgets/base",
      "model_module_version": "1.2.0",
      "model_name": "LayoutModel",
      "state": {
       "align_items": "center",
       "display": "flex-inline",
       "grid_area": "right",
       "max_height": "325px",
       "padding": "10px 10px 10px 10px",
       "width": "auto"
      }
     },
     "943f82766ac14812aae1381210b90909": {
      "model_module": "@jupyter-widgets/controls",
      "model_module_version": "1.5.0",
      "model_name": "TabModel",
      "state": {
       "_titles": {
        "0": "Configuration",
        "1": "Qubit Properties",
        "2": "Multi-Qubit Gates",
        "3": "Error Map",
        "4": "Job History"
       },
       "children": [
        "IPY_MODEL_e7cb7a56752c408988691cea41cac5e1",
        "IPY_MODEL_8222367ba09c44e9aa1bd9c5e644c846",
        "IPY_MODEL_09e5f9a5d09645588f0a93d356e74c47",
        "IPY_MODEL_cc09746478474287888db87ac3e93a27",
        "IPY_MODEL_1845e12ecb174938bd5c5c74d7965113"
       ],
       "layout": "IPY_MODEL_d7d06384e31143af84a5e13958b54f43"
      }
     },
     "97171c0576b740cf8079dc37d5d03495": {
      "model_module": "@jupyter-widgets/base",
      "model_module_version": "1.2.0",
      "model_name": "LayoutModel",
      "state": {}
     },
     "971e8b8060714d88a7397029f09ef621": {
      "model_module": "@jupyter-widgets/controls",
      "model_module_version": "1.5.0",
      "model_name": "DescriptionStyleModel",
      "state": {
       "description_width": ""
      }
     },
     "973a221ff890487d9646fe694a756ecc": {
      "model_module": "@jupyter-widgets/base",
      "model_module_version": "1.2.0",
      "model_name": "LayoutModel",
      "state": {}
     },
     "98cef4e2d8da45f080883e851b7dad33": {
      "model_module": "@jupyter-widgets/controls",
      "model_module_version": "1.5.0",
      "model_name": "ButtonModel",
      "state": {
       "icon": "close",
       "layout": "IPY_MODEL_92f95b50a8c2487a994e05bad0539279",
       "style": "IPY_MODEL_32a4c525f9044500acc4fd15f9aeaa2b"
      }
     },
     "9968e39d03224edba9c51c9e33bcc7ca": {
      "model_module": "@jupyter-widgets/base",
      "model_module_version": "1.2.0",
      "model_name": "LayoutModel",
      "state": {
       "grid_area": "left"
      }
     },
     "99a990a1d498442185a7af8ca40e5915": {
      "model_module": "@jupyter-widgets/base",
      "model_module_version": "1.2.0",
      "model_name": "LayoutModel",
      "state": {
       "margin": "0px 0px 0px 37px",
       "width": "600px"
      }
     },
     "9a51b0511b304301823317ec0c49c19a": {
      "model_module": "@jupyter-widgets/base",
      "model_module_version": "1.2.0",
      "model_name": "LayoutModel",
      "state": {
       "width": "190px"
      }
     },
     "9a61e99d127848daaeb9bae140ce2f53": {
      "model_module": "@jupyter-widgets/base",
      "model_module_version": "1.2.0",
      "model_name": "LayoutModel",
      "state": {
       "align_items": "center",
       "display": "flex-inline",
       "min_height": "400px"
      }
     },
     "9ab47c54509c4587b6aaf7f07a67a8c9": {
      "model_module": "@jupyter-widgets/controls",
      "model_module_version": "1.5.0",
      "model_name": "DescriptionStyleModel",
      "state": {
       "description_width": ""
      }
     },
     "9ae1a9223cb6430db452b8ff045c44c3": {
      "model_module": "@jupyter-widgets/base",
      "model_module_version": "1.2.0",
      "model_name": "LayoutModel",
      "state": {
       "grid_template_areas": "\n                                       \". . . . right \"\n                                        ",
       "grid_template_columns": "20% 20% 20% 20% 20%",
       "width": "100%"
      }
     },
     "9c66af7d616e4111b4b7af90271b3239": {
      "model_module": "@jupyter-widgets/controls",
      "model_module_version": "1.5.0",
      "model_name": "DescriptionStyleModel",
      "state": {
       "description_width": ""
      }
     },
     "9e151932bec3412b9cfed019fde7f1ad": {
      "model_module": "@jupyter-widgets/controls",
      "model_module_version": "1.5.0",
      "model_name": "TabModel",
      "state": {
       "_titles": {
        "0": "Year",
        "1": "Month",
        "2": "Week"
       },
       "children": [
        "IPY_MODEL_bfa828d64c8742c2b1cebd7637b1c023",
        "IPY_MODEL_ebb8a3a43f59431f9f4900bf97a0f9bc",
        "IPY_MODEL_ec898d049e04454b93a68a30e4f297d2"
       ],
       "layout": "IPY_MODEL_f6e8d33c7ec54f289133fac67d3e4337"
      }
     },
     "9e6b031bb4004d389decb277fc621e5f": {
      "model_module": "@jupyter-widgets/controls",
      "model_module_version": "1.5.0",
      "model_name": "DescriptionStyleModel",
      "state": {
       "description_width": ""
      }
     },
     "9efa21b7bfda4e48aff2dc8a320cc3bb": {
      "model_module": "@jupyter-widgets/controls",
      "model_module_version": "1.5.0",
      "model_name": "DescriptionStyleModel",
      "state": {
       "description_width": ""
      }
     },
     "9f1c358f7d2e434d8d425ec443feffcc": {
      "model_module": "@jupyter-widgets/base",
      "model_module_version": "1.2.0",
      "model_name": "LayoutModel",
      "state": {
       "width": "145px"
      }
     },
     "9f278a2c6aa64c209231b897ddb51971": {
      "model_module": "@jupyter-widgets/base",
      "model_module_version": "1.2.0",
      "model_name": "LayoutModel",
      "state": {
       "width": "145px"
      }
     },
     "9f2c49f55ad84785ab2994c9dce88bab": {
      "model_module": "@jupyter-widgets/controls",
      "model_module_version": "1.5.0",
      "model_name": "DescriptionStyleModel",
      "state": {
       "description_width": ""
      }
     },
     "9fa274c9ca9f4ce6b8cd2cd0fddd4c59": {
      "model_module": "@jupyter-widgets/controls",
      "model_module_version": "1.5.0",
      "model_name": "HTMLModel",
      "state": {
       "layout": "IPY_MODEL_f387ea511df74d01a4867022eaea392e",
       "style": "IPY_MODEL_1eb6a6184bcb480cb39db1ac91b64ac1",
       "value": "job has successfully run"
      }
     },
     "a02191f584be4780b67cbb502f2b8b86": {
      "model_module": "@jupyter-widgets/base",
      "model_module_version": "1.2.0",
      "model_name": "LayoutModel",
      "state": {
       "overflow_x": "scroll"
      }
     },
     "a2e7c6d426714e7398cc884c4e850914": {
      "model_module": "@jupyter-widgets/controls",
      "model_module_version": "1.5.0",
      "model_name": "HTMLModel",
      "state": {
       "layout": "IPY_MODEL_b19647fdc976411a944bb604f370220c",
       "style": "IPY_MODEL_e42f0f1db6504f198d531cfbd36dc545",
       "value": "<table><style>\ntable {\n    border-collapse: collapse;\n    width: auto;\n}\n\nth, td {\n    text-align: left;\n    padding: 8px;\n}\n\ntr:nth-child(even) {background-color: #f6f6f6;};\n</style><tr><th></th><th>Type</th><th>Gate error</th></tr><tr><td><font style='font-weight:bold'>cx2_1</font></td><td>cx</td><td>0.0073</td></tr><tr><td><font style='font-weight:bold'>cx1_2</font></td><td>cx</td><td>0.0073</td></tr></table>"
      }
     },
     "a2f01ee9fd9241c3abc3c3c547a7f2ac": {
      "model_module": "@jupyter-widgets/base",
      "model_module_version": "1.2.0",
      "model_name": "LayoutModel",
      "state": {}
     },
     "a38e433fb2f14ee2ad26eda6b9021f70": {
      "model_module": "@jupyter-widgets/base",
      "model_module_version": "1.2.0",
      "model_name": "LayoutModel",
      "state": {
       "grid_area": "middle"
      }
     },
     "a42ea2c6dd7040879406d9351bc9b130": {
      "model_module": "@jupyter-widgets/controls",
      "model_module_version": "1.5.0",
      "model_name": "HTMLMathModel",
      "state": {
       "layout": "IPY_MODEL_6d1a9232540c48ad8604523c94626cfa",
       "style": "IPY_MODEL_0e4bcd9e2ddd417c880e11823f855f5a",
       "value": "<table><style>\ntable {\n    border-collapse: collapse;\n    width: auto;\n}\n\nth, td {\n    text-align: left;\n    padding: 8px;\n}\n\ntr:nth-child(even) {background-color: #f6f6f6;}\n</style><tr><th></th><th></th></tr><tr><td>memory</td><td>True</td></tr><tr><td>qubit_lo_range</td><td>[[4.529755470194274, 5.529755470194274], [4.627731950559698, 5.627731950559698], [4.747349626464536, 5.747349626464536], [4.802571209580754, 5.802571209580754], [4.592032543559681, 5.592032543559681]]</td></tr><tr><td>meas_kernels</td><td>['hw_boxcar']</td></tr><tr><td>pulse_num_qubits</td><td>3</td></tr><tr><td>parallel_compilation</td><td>False</td></tr><tr><td>dynamic_reprate_enabled</td><td>True</td></tr><tr><td>simulator</td><td>False</td></tr><tr><td>rep_delay_range</td><td>[0.0, 500.0]</td></tr><tr><td>live_data</td><td>False</td></tr><tr><td>meas_map</td><td>[[0, 1, 2, 3, 4]]</td></tr><tr><td>meas_lo_range</td><td>[[6.925143125000001, 7.925143125000001], [6.721646720000001, 7.721646720000001], [6.971842939, 7.971842939], [6.865317232000001, 7.865317232000001], [6.919067567000001, 7.919067567000001]]</td></tr><tr><td>allow_q_object</td><td>True</td></tr><tr><td>measure_esp_enabled</td><td>False</td></tr><tr><td>open_pulse</td><td>False</td></tr><tr><td>qubit_channel_mapping</td><td>[['m0', 'u1', 'u0', 'd0'], ['u0', 'u3', 'm1', 'u1', 'u4', 'u5', 'd1', 'u2'], ['m2', 'u4', 'd2', 'u2'], ['d3', 'm3', 'u3', 'u6', 'u5', 'u7'], ['u7', 'd4', 'm4', 'u6']]</td></tr><tr><td>supported_features</td><td>['qobj']</td></tr><tr><td>processor_type</td><td>{'family': 'Falcon', 'revision': 4, 'segment': 'T'}</td></tr><tr><td>supported_instructions</td><td>['cx', 'id', 'delay', 'measure', 'reset', 'rz', 'sx', 'x']</td></tr><tr><td>allow_object_storage</td><td>True</td></tr><tr><td>hamiltonian</td><td>$$\\begin{align} \\mathcal{H}/\\hbar = & \\sum_{i=0}^{4}\\left(\\frac{\\omega_{q,i}}{2}(\\mathbb{I}-\\sigma_i^{z})+\\frac{\\Delta_{i}}{2}(O_i^2-O_i)+\\Omega_{d,i}D_i(t)\\sigma_i^{X}\\right) \\\\ & + J_{0,1}(\\sigma_{0}^{+}\\sigma_{1}^{-}+\\sigma_{0}^{-}\\sigma_{1}^{+}) + J_{1,2}(\\sigma_{1}^{+}\\sigma_{2}^{-}+\\sigma_{1}^{-}\\sigma_{2}^{+}) + J_{1,3}(\\sigma_{1}^{+}\\sigma_{3}^{-}+\\sigma_{1}^{-}\\sigma_{3}^{+}) + J_{3,4}(\\sigma_{3}^{+}\\sigma_{4}^{-}+\\sigma_{3}^{-}\\sigma_{4}^{+}) \\\\ & + \\Omega_{d,0}(U_{0}^{(0,1)}(t))\\sigma_{0}^{X} + \\Omega_{d,1}(U_{1}^{(1,0)}(t)+U_{3}^{(1,3)}(t)+U_{2}^{(1,2)}(t))\\sigma_{1}^{X} \\\\ & + \\Omega_{d,2}(U_{4}^{(2,1)}(t))\\sigma_{2}^{X} + \\Omega_{d,3}(U_{6}^{(3,4)}(t)+U_{5}^{(3,1)}(t))\\sigma_{3}^{X} \\\\ & + \\Omega_{d,4}(U_{7}^{(4,3)}(t))\\sigma_{4}^{X} \\\\ \\end{align}$$</td></tr><tr><td>uchannels_enabled</td><td>True</td></tr><tr><td>timing_constraints</td><td>{'acquire_alignment': 16, 'granularity': 16, 'min_length': 64, 'pulse_alignment': 1}</td></tr><tr><td>url</td><td>None</td></tr><tr><td>dtm</td><td>0.2222222222222222</td></tr><tr><td>input_allowed</td><td>['job', 'runtime']</td></tr><tr><td>discriminators</td><td>['linear_discriminator', 'hw_centroid', 'quadratic_discriminator']</td></tr><tr><td>u_channel_lo</td><td>[[{'q': 1, 'scale': (1+0j)}], [{'q': 0, 'scale': (1+0j)}], [{'q': 2, 'scale': (1+0j)}], [{'q': 3, 'scale': (1+0j)}], [{'q': 1, 'scale': (1+0j)}], [{'q': 1, 'scale': (1+0j)}], [{'q': 4, 'scale': (1+0j)}], [{'q': 3, 'scale': (1+0j)}]]</td></tr><tr><td>acquisition_latency</td><td>[]</td></tr><tr><td>conditional_latency</td><td>[]</td></tr><tr><td>multi_meas_enabled</td><td>True</td></tr><tr><td>pulse_num_channels</td><td>9</td></tr><tr><td>local</td><td>False</td></tr><tr><td>backend_name</td><td>ibmq_lima</td></tr><tr><td>description</td><td>5 qubit device Lima</td></tr><tr><td>n_uchannels</td><td>8</td></tr><tr><td>default_rep_delay</td><td>250.0</td></tr><tr><td>sample_name</td><td>family: Falcon, revision: 4, segment: T</td></tr><tr><td>online_date</td><td>2021-01-08 05:00:00+00:00</td></tr><tr><td>coupling_map</td><td>[[0, 1], [1, 0], [1, 2], [1, 3], [2, 1], [3, 1], [3, 4], [4, 3]]</td></tr><tr><td>n_registers</td><td>1</td></tr><tr><td>parametric_pulses</td><td>['gaussian', 'gaussian_square', 'gaussian_square_drag', 'drag', 'constant']</td></tr><tr><td>rep_times</td><td>[1000.0]</td></tr><tr><td>channels</td><td>{'acquire0': {'operates': {'qubits': [0]}, 'purpose': 'acquire', 'type': 'acquire'}, 'acquire1': {'operates': {'qubits': [1]}, 'purpose': 'acquire', 'type': 'acquire'}, 'acquire2': {'operates': {'qubits': [2]}, 'purpose': 'acquire', 'type': 'acquire'}, 'acquire3': {'operates': {'qubits': [3]}, 'purpose': 'acquire', 'type': 'acquire'}, 'acquire4': {'operates': {'qubits': [4]}, 'purpose': 'acquire', 'type': 'acquire'}, 'd0': {'operates': {'qubits': [0]}, 'purpose': 'drive', 'type': 'drive'}, 'd1': {'operates': {'qubits': [1]}, 'purpose': 'drive', 'type': 'drive'}, 'd2': {'operates': {'qubits': [2]}, 'purpose': 'drive', 'type': 'drive'}, 'd3': {'operates': {'qubits': [3]}, 'purpose': 'drive', 'type': 'drive'}, 'd4': {'operates': {'qubits': [4]}, 'purpose': 'drive', 'type': 'drive'}, 'm0': {'operates': {'qubits': [0]}, 'purpose': 'measure', 'type': 'measure'}, 'm1': {'operates': {'qubits': [1]}, 'purpose': 'measure', 'type': 'measure'}, 'm2': {'operates': {'qubits': [2]}, 'purpose': 'measure', 'type': 'measure'}, 'm3': {'operates': {'qubits': [3]}, 'purpose': 'measure', 'type': 'measure'}, 'm4': {'operates': {'qubits': [4]}, 'purpose': 'measure', 'type': 'measure'}, 'u0': {'operates': {'qubits': [0, 1]}, 'purpose': 'cross-resonance', 'type': 'control'}, 'u1': {'operates': {'qubits': [1, 0]}, 'purpose': 'cross-resonance', 'type': 'control'}, 'u2': {'operates': {'qubits': [1, 2]}, 'purpose': 'cross-resonance', 'type': 'control'}, 'u3': {'operates': {'qubits': [1, 3]}, 'purpose': 'cross-resonance', 'type': 'control'}, 'u4': {'operates': {'qubits': [2, 1]}, 'purpose': 'cross-resonance', 'type': 'control'}, 'u5': {'operates': {'qubits': [3, 1]}, 'purpose': 'cross-resonance', 'type': 'control'}, 'u6': {'operates': {'qubits': [3, 4]}, 'purpose': 'cross-resonance', 'type': 'control'}, 'u7': {'operates': {'qubits': [4, 3]}, 'purpose': 'cross-resonance', 'type': 'control'}}</td></tr><tr><td>conditional</td><td>False</td></tr><tr><td>dt</td><td>0.2222222222222222</td></tr><tr><td>clops</td><td>2673</td></tr><tr><td>meas_levels</td><td>[1, 2]</td></tr><tr><td>credits_required</td><td>True</td></tr></table>"
      }
     },
     "a4691906f1274962a83dcfa46432c14d": {
      "model_module": "@jupyter-widgets/controls",
      "model_module_version": "1.5.0",
      "model_name": "HTMLModel",
      "state": {
       "layout": "IPY_MODEL_9968e39d03224edba9c51c9e33bcc7ca",
       "style": "IPY_MODEL_9ab47c54509c4587b6aaf7f07a67a8c9",
       "value": "<table><style>\ntable {\n    border-collapse: collapse;\n    width: auto;\n}\n\nth, td {\n    text-align: left;\n    padding: 8px;\n}\n\ntr:nth-child(even) {background-color: #f6f6f6;};\n</style><tr><th></th><th>Type</th><th>Gate error</th></tr><tr><td><font style='font-weight:bold'>cx4_3</font></td><td>cx</td><td>0.01582</td></tr><tr><td><font style='font-weight:bold'>cx3_4</font></td><td>cx</td><td>0.01582</td></tr><tr><td><font style='font-weight:bold'>cx0_1</font></td><td>cx</td><td>0.00789</td></tr></table>"
      }
     },
     "a4dedf6c4c3d485e9033d992261a8576": {
      "model_module": "@jupyter-widgets/controls",
      "model_module_version": "1.5.0",
      "model_name": "DescriptionStyleModel",
      "state": {
       "description_width": ""
      }
     },
     "a6bfb0ac290c46fb996769b9233733e1": {
      "model_module": "@jupyter-widgets/controls",
      "model_module_version": "1.5.0",
      "model_name": "TabModel",
      "state": {
       "layout": "IPY_MODEL_db33f2da2f1749cf9181e36f89a3d1e0"
      }
     },
     "a7e018f882294d8eb2040a57b26b772d": {
      "model_module": "@jupyter-widgets/controls",
      "model_module_version": "1.5.0",
      "model_name": "HTMLModel",
      "state": {
       "layout": "IPY_MODEL_0e5acdb617724a289f21000d79d181e5",
       "style": "IPY_MODEL_b9ba185d4ed84d4ab5820844ec84046a",
       "value": "<h5>Message</h5>"
      }
     },
     "a96b54885ae64d7798bc083f6996dac5": {
      "model_module": "@jupyter-widgets/controls",
      "model_module_version": "1.5.0",
      "model_name": "HTMLModel",
      "state": {
       "layout": "IPY_MODEL_fdf1d5572954401f997d82b2a12a3380",
       "style": "IPY_MODEL_f9e3b4a432b541ba919da26d6baab909",
       "value": "<h1 style='color:#ffffff;background-color:#000000;padding-top: 1%;padding-bottom: 1%;padding-left: 1%; margin-top: 0px'>ibmq_quito</h1>"
      }
     },
     "a9e1e11cb698464685e2482079200832": {
      "model_module": "@jupyter-widgets/controls",
      "model_module_version": "1.5.0",
      "model_name": "HTMLModel",
      "state": {
       "layout": "IPY_MODEL_cfa2101e05024b0eb130c7731f73032e",
       "style": "IPY_MODEL_5c678ef5adfb403ca0799ea30065e400",
       "value": "63bf8d588eca234c2b27e18b"
      }
     },
     "ad4e3d97b2524e028dcd3c92c6d6f3be": {
      "model_module": "@jupyter-widgets/controls",
      "model_module_version": "1.5.0",
      "model_name": "DescriptionStyleModel",
      "state": {
       "description_width": ""
      }
     },
     "adfd457318494035908b95d539586ff0": {
      "model_module": "@jupyter-widgets/controls",
      "model_module_version": "1.5.0",
      "model_name": "DescriptionStyleModel",
      "state": {
       "description_width": ""
      }
     },
     "b0bbd5a8e0b3428c873d364e120cfcb7": {
      "model_module": "@jupyter-widgets/base",
      "model_module_version": "1.2.0",
      "model_name": "LayoutModel",
      "state": {
       "width": "70px"
      }
     },
     "b0fe250ff0db4ee4b4765bc00fd38cb7": {
      "model_module": "@jupyter-widgets/controls",
      "model_module_version": "1.5.0",
      "model_name": "DescriptionStyleModel",
      "state": {
       "description_width": ""
      }
     },
     "b15a27648db144a1a66c365c32e5ac2f": {
      "model_module": "@jupyter-widgets/controls",
      "model_module_version": "1.5.0",
      "model_name": "DescriptionStyleModel",
      "state": {
       "description_width": ""
      }
     },
     "b19647fdc976411a944bb604f370220c": {
      "model_module": "@jupyter-widgets/base",
      "model_module_version": "1.2.0",
      "model_name": "LayoutModel",
      "state": {
       "grid_area": "right"
      }
     },
     "b25d6020cbc5473e845e220113d6f329": {
      "model_module": "@jupyter-widgets/base",
      "model_module_version": "1.2.0",
      "model_name": "LayoutModel",
      "state": {
       "grid_gap": "0px 0px",
       "grid_template_areas": "\n                               \"left right right right\"\n                               \"bottom bottom bottom bottom\"\n                               ",
       "grid_template_columns": "31% 23% 23% 23%",
       "grid_template_rows": "auto auto"
      }
     },
     "b2c8a03d5d0a428cae2cb0f82e8b326f": {
      "model_module": "@jupyter-widgets/base",
      "model_module_version": "1.2.0",
      "model_name": "LayoutModel",
      "state": {}
     },
     "b611ae16da7945a3a5c4115c42593642": {
      "model_module": "@jupyter-widgets/base",
      "model_module_version": "1.2.0",
      "model_name": "LayoutModel",
      "state": {
       "width": "190px"
      }
     },
     "b63617dcdd5d4f40ac45e08dc71e72ea": {
      "model_module": "@jupyter-widgets/base",
      "model_module_version": "1.2.0",
      "model_name": "LayoutModel",
      "state": {
       "max_width": "700px",
       "min_width": "700px"
      }
     },
     "b842413bfe394bfbb73dcb0b7db980cb": {
      "model_module": "@jupyter-widgets/controls",
      "model_module_version": "1.5.0",
      "model_name": "HTMLModel",
      "state": {
       "layout": "IPY_MODEL_b611ae16da7945a3a5c4115c42593642",
       "style": "IPY_MODEL_d0d5c4ec425a4883b56e0b8c0da6726f",
       "value": "63bf8e154366171814ce4c9f"
      }
     },
     "b9ba185d4ed84d4ab5820844ec84046a": {
      "model_module": "@jupyter-widgets/controls",
      "model_module_version": "1.5.0",
      "model_name": "DescriptionStyleModel",
      "state": {
       "description_width": ""
      }
     },
     "b9fe0bf1cc7d42bfa475e075c2048352": {
      "model_module": "@jupyter-widgets/controls",
      "model_module_version": "1.5.0",
      "model_name": "DescriptionStyleModel",
      "state": {
       "description_width": ""
      }
     },
     "ba2ce1da8dc546df800f5973931c1f44": {
      "model_module": "@jupyter-widgets/controls",
      "model_module_version": "1.5.0",
      "model_name": "DescriptionStyleModel",
      "state": {
       "description_width": ""
      }
     },
     "ba93fcee3a3649c8bd058c44cd350831": {
      "model_module": "@jupyter-widgets/controls",
      "model_module_version": "1.5.0",
      "model_name": "DescriptionStyleModel",
      "state": {
       "description_width": ""
      }
     },
     "bba91a641a6e4b30a1aca7e92425ea7c": {
      "model_module": "@jupyter-widgets/base",
      "model_module_version": "1.2.0",
      "model_name": "LayoutModel",
      "state": {
       "max_width": "700px",
       "min_width": "700px"
      }
     },
     "bc1e7fbc5a8641cfabb77d441bbaca1d": {
      "model_module": "@jupyter-widgets/controls",
      "model_module_version": "1.5.0",
      "model_name": "HTMLModel",
      "state": {
       "layout": "IPY_MODEL_3ee041d1f9be45858128e46e28c4c7a6",
       "style": "IPY_MODEL_211b8594c87f4f728e6bb79cd2309596",
       "value": "job has successfully run"
      }
     },
     "bc382e5589da49acbf27a1fce52277dd": {
      "model_module": "@jupyter-widgets/controls",
      "model_module_version": "1.5.0",
      "model_name": "DescriptionStyleModel",
      "state": {
       "description_width": ""
      }
     },
     "bc7cc3922eca4272b5262d0be9b600ae": {
      "model_module": "@jupyter-widgets/controls",
      "model_module_version": "1.5.0",
      "model_name": "TabModel",
      "state": {
       "_titles": {
        "0": "Configuration",
        "1": "Qubit Properties",
        "2": "Multi-Qubit Gates",
        "3": "Error Map",
        "4": "Job History"
       },
       "children": [
        "IPY_MODEL_645e49d0cabd4eb3a902c774cb11406c",
        "IPY_MODEL_c91d760b4ce8433dac6fe6362ecad71e",
        "IPY_MODEL_796b670bd9b44454970c772094c6f21f",
        "IPY_MODEL_df1e1f45f61b4c6093cf575f3e5fc1d4",
        "IPY_MODEL_c8c055063e4b45d2b2b18e97f4bb81c6"
       ],
       "layout": "IPY_MODEL_059c5404f73c452facb01ce128f43842"
      }
     },
     "bd7d7ae707f44828af754c7095d51be5": {
      "model_module": "@jupyter-widgets/base",
      "model_module_version": "1.2.0",
      "model_name": "LayoutModel",
      "state": {}
     },
     "bdbf6298c322416d9991dc6fbe1849c8": {
      "model_module": "@jupyter-widgets/output",
      "model_module_version": "1.0.0",
      "model_name": "OutputModel",
      "state": {
       "layout": "IPY_MODEL_609f926576d940509f310ca7bcaa2418",
       "outputs": [
        {
         "data": {
          "image/png": "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\n",
          "text/plain": "<Figure size 792x648 with 5 Axes>"
         },
         "metadata": {},
         "output_type": "display_data"
        }
       ]
      }
     },
     "bea88649a7774686a5b587d0f61a1d34": {
      "model_module": "@jupyter-widgets/controls",
      "model_module_version": "1.5.0",
      "model_name": "GridBoxModel",
      "state": {
       "children": [
        "IPY_MODEL_dd9cc50859ae41dfa6fdeb7fe0315ff8",
        "IPY_MODEL_58ccc5d546e44998ab9c575069c759df",
        "IPY_MODEL_a42ea2c6dd7040879406d9351bc9b130"
       ],
       "layout": "IPY_MODEL_05ee96e8823a47ff9cb6f4d367f3dcef"
      }
     },
     "bfa828d64c8742c2b1cebd7637b1c023": {
      "model_module": "@jupyter-widgets/output",
      "model_module_version": "1.0.0",
      "model_name": "OutputModel",
      "state": {
       "layout": "IPY_MODEL_9a61e99d127848daaeb9bae140ce2f53",
       "outputs": [
        {
         "data": {
          "image/png": "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\n",
          "text/plain": "<Figure size 396x396 with 1 Axes>"
         },
         "metadata": {},
         "output_type": "display_data"
        }
       ]
      }
     },
     "c14de0c95874448c97ede413f323cbe6": {
      "model_module": "@jupyter-widgets/base",
      "model_module_version": "1.2.0",
      "model_name": "LayoutModel",
      "state": {
       "margin": "0px 0px 0px 0px"
      }
     },
     "c375a82c9188417eb59c59d158b0b699": {
      "model_module": "@jupyter-widgets/base",
      "model_module_version": "1.2.0",
      "model_name": "LayoutModel",
      "state": {
       "grid_gap": "0px 0px",
       "grid_template_areas": "\n                               \"left right right right\"\n                               \"bottom bottom bottom bottom\"\n                               ",
       "grid_template_columns": "31% 23% 23% 23%",
       "grid_template_rows": "auto auto"
      }
     },
     "c4547ac498dc44c3a76fd4435c489059": {
      "model_module": "@jupyter-widgets/controls",
      "model_module_version": "1.5.0",
      "model_name": "ButtonStyleModel",
      "state": {
       "button_color": "white"
      }
     },
     "c51e88c3b613469ea42d4f026173cf38": {
      "model_module": "@jupyter-widgets/controls",
      "model_module_version": "1.5.0",
      "model_name": "DescriptionStyleModel",
      "state": {
       "description_width": ""
      }
     },
     "c6011785c19c42509159e57ee1f75a0a": {
      "model_module": "@jupyter-widgets/controls",
      "model_module_version": "1.5.0",
      "model_name": "DescriptionStyleModel",
      "state": {
       "description_width": ""
      }
     },
     "c68264f127464ae4ac47c774c7b98598": {
      "model_module": "@jupyter-widgets/base",
      "model_module_version": "1.2.0",
      "model_name": "LayoutModel",
      "state": {
       "max_width": "700px",
       "min_width": "700px"
      }
     },
     "c6c94a109cb248548a8625af2a07c067": {
      "model_module": "@jupyter-widgets/controls",
      "model_module_version": "1.5.0",
      "model_name": "HTMLModel",
      "state": {
       "layout": "IPY_MODEL_9f278a2c6aa64c209231b897ddb51971",
       "style": "IPY_MODEL_1ce66cedff8f4830944541f8ebb052b7",
       "value": "<h5>Backend</h5>"
      }
     },
     "c7ab6e2d03c543c9b1edd5787a4083df": {
      "model_module": "@jupyter-widgets/base",
      "model_module_version": "1.2.0",
      "model_name": "LayoutModel",
      "state": {
       "width": "70px"
      }
     },
     "c81f4d5586014cc0a208751e2bc28da9": {
      "model_module": "@jupyter-widgets/controls",
      "model_module_version": "1.5.0",
      "model_name": "ButtonModel",
      "state": {
       "icon": "close",
       "layout": "IPY_MODEL_8b8fd3d5958f45f8948eb1ab8b030a93",
       "style": "IPY_MODEL_809b8ae98bf64c61ba3c4f34c8745497"
      }
     },
     "c8c055063e4b45d2b2b18e97f4bb81c6": {
      "model_module": "@jupyter-widgets/controls",
      "model_module_version": "1.5.0",
      "model_name": "TabModel",
      "state": {
       "layout": "IPY_MODEL_15a8ce03a47d4b4e8c53062e25470949"
      }
     },
     "c91d760b4ce8433dac6fe6362ecad71e": {
      "model_module": "@jupyter-widgets/controls",
      "model_module_version": "1.5.0",
      "model_name": "VBoxModel",
      "state": {
       "children": [
        "IPY_MODEL_7f3562f8397541b589055471cf6d93c6",
        "IPY_MODEL_2bbc590484ba40e3bffedf277d1eb328"
       ],
       "layout": "IPY_MODEL_bd7d7ae707f44828af754c7095d51be5"
      }
     },
     "cc09746478474287888db87ac3e93a27": {
      "model_module": "@jupyter-widgets/output",
      "model_module_version": "1.0.0",
      "model_name": "OutputModel",
      "state": {
       "layout": "IPY_MODEL_76d623200b9343a2ad6c36ce98a69b0f",
       "outputs": [
        {
         "data": {
          "image/png": "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\n",
          "text/plain": "<Figure size 792x648 with 5 Axes>"
         },
         "metadata": {},
         "output_type": "display_data"
        }
       ]
      }
     },
     "cf07060fc86a4f69927f91a1b87a2a06": {
      "model_module": "@jupyter-widgets/controls",
      "model_module_version": "1.5.0",
      "model_name": "HTMLMathModel",
      "state": {
       "layout": "IPY_MODEL_dbbc732c03e34cac935d079e61199925",
       "style": "IPY_MODEL_6f3a07c227894aa089b5c8b0a43b0828",
       "value": "<table><style>\ntable {\n    border-collapse: collapse;\n    width: auto;\n}\n\nth, td {\n    text-align: left;\n    padding: 8px;\n}\n\ntr:nth-child(even) {background-color: #f6f6f6;}\n</style><tr><th></th><th></th></tr><tr><td>memory</td><td>True</td></tr><tr><td>qubit_lo_range</td><td>[[4.8006194677943945, 5.8006194677943945], [4.580570473432781, 5.580570473432781], [4.8221793407636655, 5.8221793407636655], [4.6636184520434245, 5.663618452043425], [4.552337912789367, 5.552337912789367]]</td></tr><tr><td>meas_kernels</td><td>['hw_boxcar']</td></tr><tr><td>pulse_num_qubits</td><td>3</td></tr><tr><td>parallel_compilation</td><td>False</td></tr><tr><td>dynamic_reprate_enabled</td><td>True</td></tr><tr><td>simulator</td><td>False</td></tr><tr><td>rep_delay_range</td><td>[0.0, 500.0]</td></tr><tr><td>live_data</td><td>False</td></tr><tr><td>meas_map</td><td>[[0, 1, 2, 3, 4]]</td></tr><tr><td>meas_lo_range</td><td>[[6.807868157000001, 7.807868157000001], [6.7292695270000005, 7.7292695270000005], [6.991060108, 7.991060108], [6.8547510460000005, 7.8547510460000005], [6.904365522000001, 7.904365522000001]]</td></tr><tr><td>allow_q_object</td><td>True</td></tr><tr><td>measure_esp_enabled</td><td>False</td></tr><tr><td>open_pulse</td><td>False</td></tr><tr><td>qubit_channel_mapping</td><td>[['u1', 'd0', 'm0', 'u0'], ['u1', 'u2', 'u3', 'u0', 'u5', 'm1', 'u4', 'd1'], ['u4', 'd2', 'm2', 'u2'], ['u3', 'u5', 'u6', 'u7', 'd3', 'm3'], ['m4', 'u7', 'd4', 'u6']]</td></tr><tr><td>supported_features</td><td>['qobj']</td></tr><tr><td>processor_type</td><td>{'family': 'Falcon', 'revision': 4, 'segment': 'T'}</td></tr><tr><td>supported_instructions</td><td>['cx', 'id', 'delay', 'measure', 'reset', 'rz', 'sx', 'x']</td></tr><tr><td>allow_object_storage</td><td>True</td></tr><tr><td>hamiltonian</td><td>$$\\begin{align} \\mathcal{H}/\\hbar = & \\sum_{i=0}^{4}\\left(\\frac{\\omega_{q,i}}{2}(\\mathbb{I}-\\sigma_i^{z})+\\frac{\\Delta_{i}}{2}(O_i^2-O_i)+\\Omega_{d,i}D_i(t)\\sigma_i^{X}\\right) \\\\ & + J_{0,1}(\\sigma_{0}^{+}\\sigma_{1}^{-}+\\sigma_{0}^{-}\\sigma_{1}^{+}) + J_{1,2}(\\sigma_{1}^{+}\\sigma_{2}^{-}+\\sigma_{1}^{-}\\sigma_{2}^{+}) + J_{1,3}(\\sigma_{1}^{+}\\sigma_{3}^{-}+\\sigma_{1}^{-}\\sigma_{3}^{+}) + J_{3,4}(\\sigma_{3}^{+}\\sigma_{4}^{-}+\\sigma_{3}^{-}\\sigma_{4}^{+}) \\\\ & + \\Omega_{d,0}(U_{0}^{(0,1)}(t))\\sigma_{0}^{X} + \\Omega_{d,1}(U_{1}^{(1,0)}(t)+U_{3}^{(1,3)}(t)+U_{2}^{(1,2)}(t))\\sigma_{1}^{X} \\\\ & + \\Omega_{d,2}(U_{4}^{(2,1)}(t))\\sigma_{2}^{X} + \\Omega_{d,3}(U_{6}^{(3,4)}(t)+U_{5}^{(3,1)}(t))\\sigma_{3}^{X} \\\\ & + \\Omega_{d,4}(U_{7}^{(4,3)}(t))\\sigma_{4}^{X} \\\\ \\end{align}$$</td></tr><tr><td>uchannels_enabled</td><td>True</td></tr><tr><td>timing_constraints</td><td>{'acquire_alignment': 16, 'granularity': 16, 'min_length': 64, 'pulse_alignment': 1}</td></tr><tr><td>url</td><td>None</td></tr><tr><td>dtm</td><td>0.2222222222222222</td></tr><tr><td>input_allowed</td><td>['job', 'runtime']</td></tr><tr><td>discriminators</td><td>['hw_centroid', 'quadratic_discriminator', 'linear_discriminator']</td></tr><tr><td>u_channel_lo</td><td>[[{'q': 1, 'scale': (1+0j)}], [{'q': 0, 'scale': (1+0j)}], [{'q': 2, 'scale': (1+0j)}], [{'q': 3, 'scale': (1+0j)}], [{'q': 1, 'scale': (1+0j)}], [{'q': 1, 'scale': (1+0j)}], [{'q': 4, 'scale': (1+0j)}], [{'q': 3, 'scale': (1+0j)}]]</td></tr><tr><td>acquisition_latency</td><td>[]</td></tr><tr><td>conditional_latency</td><td>[]</td></tr><tr><td>multi_meas_enabled</td><td>True</td></tr><tr><td>pulse_num_channels</td><td>9</td></tr><tr><td>local</td><td>False</td></tr><tr><td>backend_name</td><td>ibmq_quito</td></tr><tr><td>description</td><td>5 qubit device Quito</td></tr><tr><td>n_uchannels</td><td>8</td></tr><tr><td>default_rep_delay</td><td>250.0</td></tr><tr><td>sample_name</td><td>family: Falcon, revision: 4, segment: T</td></tr><tr><td>online_date</td><td>2021-01-08 05:00:00+00:00</td></tr><tr><td>coupling_map</td><td>[[0, 1], [1, 0], [1, 2], [1, 3], [2, 1], [3, 1], [3, 4], [4, 3]]</td></tr><tr><td>n_registers</td><td>1</td></tr><tr><td>parametric_pulses</td><td>['gaussian', 'gaussian_square', 'gaussian_square_drag', 'drag', 'constant']</td></tr><tr><td>rep_times</td><td>[1000.0]</td></tr><tr><td>channels</td><td>{'acquire0': {'operates': {'qubits': [0]}, 'purpose': 'acquire', 'type': 'acquire'}, 'acquire1': {'operates': {'qubits': [1]}, 'purpose': 'acquire', 'type': 'acquire'}, 'acquire2': {'operates': {'qubits': [2]}, 'purpose': 'acquire', 'type': 'acquire'}, 'acquire3': {'operates': {'qubits': [3]}, 'purpose': 'acquire', 'type': 'acquire'}, 'acquire4': {'operates': {'qubits': [4]}, 'purpose': 'acquire', 'type': 'acquire'}, 'd0': {'operates': {'qubits': [0]}, 'purpose': 'drive', 'type': 'drive'}, 'd1': {'operates': {'qubits': [1]}, 'purpose': 'drive', 'type': 'drive'}, 'd2': {'operates': {'qubits': [2]}, 'purpose': 'drive', 'type': 'drive'}, 'd3': {'operates': {'qubits': [3]}, 'purpose': 'drive', 'type': 'drive'}, 'd4': {'operates': {'qubits': [4]}, 'purpose': 'drive', 'type': 'drive'}, 'm0': {'operates': {'qubits': [0]}, 'purpose': 'measure', 'type': 'measure'}, 'm1': {'operates': {'qubits': [1]}, 'purpose': 'measure', 'type': 'measure'}, 'm2': {'operates': {'qubits': [2]}, 'purpose': 'measure', 'type': 'measure'}, 'm3': {'operates': {'qubits': [3]}, 'purpose': 'measure', 'type': 'measure'}, 'm4': {'operates': {'qubits': [4]}, 'purpose': 'measure', 'type': 'measure'}, 'u0': {'operates': {'qubits': [0, 1]}, 'purpose': 'cross-resonance', 'type': 'control'}, 'u1': {'operates': {'qubits': [1, 0]}, 'purpose': 'cross-resonance', 'type': 'control'}, 'u2': {'operates': {'qubits': [1, 2]}, 'purpose': 'cross-resonance', 'type': 'control'}, 'u3': {'operates': {'qubits': [1, 3]}, 'purpose': 'cross-resonance', 'type': 'control'}, 'u4': {'operates': {'qubits': [2, 1]}, 'purpose': 'cross-resonance', 'type': 'control'}, 'u5': {'operates': {'qubits': [3, 1]}, 'purpose': 'cross-resonance', 'type': 'control'}, 'u6': {'operates': {'qubits': [3, 4]}, 'purpose': 'cross-resonance', 'type': 'control'}, 'u7': {'operates': {'qubits': [4, 3]}, 'purpose': 'cross-resonance', 'type': 'control'}}</td></tr><tr><td>conditional</td><td>False</td></tr><tr><td>dt</td><td>0.2222222222222222</td></tr><tr><td>clops</td><td>2506</td></tr><tr><td>meas_levels</td><td>[1, 2]</td></tr><tr><td>credits_required</td><td>True</td></tr></table>"
      }
     },
     "cf45e6df3658433b9ff45e756d02d7fb": {
      "model_module": "@jupyter-widgets/controls",
      "model_module_version": "1.5.0",
      "model_name": "HTMLModel",
      "state": {
       "layout": "IPY_MODEL_e297c2e221604e1bab382757d071ff50",
       "style": "IPY_MODEL_8cd108becd0e4fb9a5f9a18e440841ad",
       "value": "<table><style>\ntable {\n    border-collapse: collapse;\n    width: auto;\n}\n\nth, td {\n    text-align: left;\n    padding: 8px;\n}\n\ntr:nth-child(even) {background-color: #f6f6f6;};\n</style><tr><th></th><th>Type</th><th>Gate error</th></tr><tr><td><font style='font-weight:bold'>cx0_1</font></td><td>cx</td><td>0.00761</td></tr><tr><td><font style='font-weight:bold'>cx1_0</font></td><td>cx</td><td>0.00761</td></tr></table>"
      }
     },
     "cf8a2d2638a642e9a143db7688d3b708": {
      "model_module": "@jupyter-widgets/controls",
      "model_module_version": "1.5.0",
      "model_name": "DescriptionStyleModel",
      "state": {
       "description_width": ""
      }
     },
     "cfa2101e05024b0eb130c7731f73032e": {
      "model_module": "@jupyter-widgets/base",
      "model_module_version": "1.2.0",
      "model_name": "LayoutModel",
      "state": {
       "width": "190px"
      }
     },
     "cfa3a8081f7d4adf9221050c6406fb21": {
      "model_module": "@jupyter-widgets/controls",
      "model_module_version": "1.5.0",
      "model_name": "DescriptionStyleModel",
      "state": {
       "description_width": ""
      }
     },
     "d0124a8c2e4c453e9acb488dbd196d11": {
      "model_module": "@jupyter-widgets/controls",
      "model_module_version": "1.5.0",
      "model_name": "HTMLMathModel",
      "state": {
       "layout": "IPY_MODEL_0ff8ece085a5447ea6c8dcedcf6fcb0d",
       "style": "IPY_MODEL_6bf7f569648144eb9a6cfc1dca0514e9",
       "value": "<table><style>\ntable {\n    border-collapse: collapse;\n    width: auto;\n}\n\nth, td {\n    text-align: left;\n    padding: 8px;\n}\n\ntr:nth-child(even) {background-color: #f6f6f6;}\n</style><tr><th>Property</th><th>Value</th></tr><tr><td><font style='font-weight:bold'>n_qubits</font></td><td>5</td></tr><tr><td><font style='font-weight:bold'>quantum_volume</font></td><td>8</td></tr><tr><td><font style='font-weight:bold'>operational</font></td><td>True</td></tr><tr><td><font style='font-weight:bold'>status_msg</font></td><td>active</td></tr><tr><td><font style='font-weight:bold'>pending_jobs</font></td><td>4</td></tr><tr><td><font style='font-weight:bold'>backend_version</font></td><td>1.0.40</td></tr><tr><td><font style='font-weight:bold'>basis_gates</font></td><td>['id', 'rz', 'sx', 'x', 'cx', 'reset']</td></tr><tr><td><font style='font-weight:bold'>max_shots</font></td><td>20000</td></tr><tr><td><font style='font-weight:bold'>max_experiments</font></td><td>100</td></tr></table>"
      }
     },
     "d0d5c4ec425a4883b56e0b8c0da6726f": {
      "model_module": "@jupyter-widgets/controls",
      "model_module_version": "1.5.0",
      "model_name": "DescriptionStyleModel",
      "state": {
       "description_width": ""
      }
     },
     "d12a982a4327402593158c657372e36a": {
      "model_module": "@jupyter-widgets/base",
      "model_module_version": "1.2.0",
      "model_name": "LayoutModel",
      "state": {
       "overflow_x": "scroll"
      }
     },
     "d30bfb5dfc4a48a885d62b23dda324e8": {
      "model_module": "@jupyter-widgets/base",
      "model_module_version": "1.2.0",
      "model_name": "LayoutModel",
      "state": {
       "grid_area": "top"
      }
     },
     "d331634887054e93aa589f1624865ef8": {
      "model_module": "@jupyter-widgets/base",
      "model_module_version": "1.2.0",
      "model_name": "LayoutModel",
      "state": {
       "border": "4px solid #000000",
       "max_height": "650px",
       "min_height": "650px",
       "overflow_y": "hidden"
      }
     },
     "d3cb81ca4e274409b004be8ed70a1107": {
      "model_module": "@jupyter-widgets/base",
      "model_module_version": "1.2.0",
      "model_name": "LayoutModel",
      "state": {
       "grid_area": "bottom",
       "width": "auto"
      }
     },
     "d40fb2b54dd6461eb66705fa03d8b19c": {
      "model_module": "@jupyter-widgets/controls",
      "model_module_version": "1.5.0",
      "model_name": "DescriptionStyleModel",
      "state": {
       "description_width": ""
      }
     },
     "d4784f29aef5469cb47b02304c411c09": {
      "model_module": "@jupyter-widgets/base",
      "model_module_version": "1.2.0",
      "model_name": "LayoutModel",
      "state": {
       "grid_area": "left",
       "width": "100%"
      }
     },
     "d4c9a9a089b44be4976dacff4ac873f4": {
      "model_module": "@jupyter-widgets/controls",
      "model_module_version": "1.5.0",
      "model_name": "HTMLMathModel",
      "state": {
       "layout": "IPY_MODEL_38045aeb5bab4580a80f463b5d87914f",
       "style": "IPY_MODEL_7c29021d5c8d4fe49b46dda04b8eac4c",
       "value": "<table><style>\ntable {\n    border-collapse: collapse;\n    width: auto;\n}\n\nth, td {\n    text-align: left;\n    padding: 8px;\n}\n\ntr:nth-child(even) {background-color: #f6f6f6;}\n</style><tr><th>Property</th><th>Value</th></tr><tr><td><font style='font-weight:bold'>n_qubits</font></td><td>5</td></tr><tr><td><font style='font-weight:bold'>quantum_volume</font></td><td>16</td></tr><tr><td><font style='font-weight:bold'>operational</font></td><td>True</td></tr><tr><td><font style='font-weight:bold'>status_msg</font></td><td>active</td></tr><tr><td><font style='font-weight:bold'>pending_jobs</font></td><td>21</td></tr><tr><td><font style='font-weight:bold'>backend_version</font></td><td>1.1.35</td></tr><tr><td><font style='font-weight:bold'>basis_gates</font></td><td>['id', 'rz', 'sx', 'x', 'cx', 'reset']</td></tr><tr><td><font style='font-weight:bold'>max_shots</font></td><td>20000</td></tr><tr><td><font style='font-weight:bold'>max_experiments</font></td><td>100</td></tr></table>"
      }
     },
     "d7d06384e31143af84a5e13958b54f43": {
      "model_module": "@jupyter-widgets/base",
      "model_module_version": "1.2.0",
      "model_name": "LayoutModel",
      "state": {
       "overflow_y": "scroll"
      }
     },
     "d88b728fdc8f4c0fac9659d79a04e30b": {
      "model_module": "@jupyter-widgets/base",
      "model_module_version": "1.2.0",
      "model_name": "LayoutModel",
      "state": {
       "align_items": "center",
       "display": "flex-inline",
       "grid_area": "right",
       "max_height": "325px",
       "padding": "10px 10px 10px 10px",
       "width": "auto"
      }
     },
     "da13ab5d50c54c60bdac31edffef631e": {
      "model_module": "@jupyter-widgets/base",
      "model_module_version": "1.2.0",
      "model_name": "LayoutModel",
      "state": {
       "grid_gap": "0px 0px",
       "grid_template_areas": "\n                                                   \"top top top\"\n                                                   \"left middle right\"\n                                                   ",
       "grid_template_columns": "33% 33% 33%",
       "grid_template_rows": "auto auto"
      }
     },
     "db33f2da2f1749cf9181e36f89a3d1e0": {
      "model_module": "@jupyter-widgets/base",
      "model_module_version": "1.2.0",
      "model_name": "LayoutModel",
      "state": {
       "max_height": "620px"
      }
     },
     "dbbbeb5287ee42a897c873a8e1a29c3a": {
      "model_module": "@jupyter-widgets/controls",
      "model_module_version": "1.5.0",
      "model_name": "HTMLModel",
      "state": {
       "layout": "IPY_MODEL_83d69618241742258b581f88c6c2a88f",
       "style": "IPY_MODEL_ba2ce1da8dc546df800f5973931c1f44",
       "value": "<table><style>\ntable {\n    border-collapse: collapse;\n    width: auto;\n}\n\nth, td {\n    text-align: left;\n    padding: 8px;\n}\n\ntr:nth-child(even) {background-color: #f6f6f6;};\n</style><tr><th></th><th>Type</th><th>Gate error</th></tr><tr><td><font style='font-weight:bold'>cx3_4</font></td><td>cx</td><td>0.01536</td></tr><tr><td><font style='font-weight:bold'>cx4_3</font></td><td>cx</td><td>0.01536</td></tr><tr><td><font style='font-weight:bold'>cx1_3</font></td><td>cx</td><td>0.00852</td></tr></table>"
      }
     },
     "dbbc732c03e34cac935d079e61199925": {
      "model_module": "@jupyter-widgets/base",
      "model_module_version": "1.2.0",
      "model_name": "LayoutModel",
      "state": {
       "grid_area": "bottom",
       "width": "auto"
      }
     },
     "dcf36c07eaa740ce94dc31845c850c9a": {
      "model_module": "@jupyter-widgets/controls",
      "model_module_version": "1.5.0",
      "model_name": "HTMLModel",
      "state": {
       "layout": "IPY_MODEL_6c4611415a7041ea9cc1dc0d69366e20",
       "style": "IPY_MODEL_b0fe250ff0db4ee4b4765bc00fd38cb7",
       "value": "<font style='color:#34BC6E'>DONE</font>"
      }
     },
     "dd9cc50859ae41dfa6fdeb7fe0315ff8": {
      "model_module": "@jupyter-widgets/controls",
      "model_module_version": "1.5.0",
      "model_name": "HTMLMathModel",
      "state": {
       "layout": "IPY_MODEL_40332da2630c45d4808a46cb9ae2be9b",
       "style": "IPY_MODEL_6cdb70289486496da01ab6ca4be6f010",
       "value": "<table><style>\ntable {\n    border-collapse: collapse;\n    width: auto;\n}\n\nth, td {\n    text-align: left;\n    padding: 8px;\n}\n\ntr:nth-child(even) {background-color: #f6f6f6;}\n</style><tr><th>Property</th><th>Value</th></tr><tr><td><font style='font-weight:bold'>n_qubits</font></td><td>5</td></tr><tr><td><font style='font-weight:bold'>quantum_volume</font></td><td>8</td></tr><tr><td><font style='font-weight:bold'>operational</font></td><td>True</td></tr><tr><td><font style='font-weight:bold'>status_msg</font></td><td>active</td></tr><tr><td><font style='font-weight:bold'>pending_jobs</font></td><td>1</td></tr><tr><td><font style='font-weight:bold'>backend_version</font></td><td>1.0.40</td></tr><tr><td><font style='font-weight:bold'>basis_gates</font></td><td>['id', 'rz', 'sx', 'x', 'cx', 'reset']</td></tr><tr><td><font style='font-weight:bold'>max_shots</font></td><td>20000</td></tr><tr><td><font style='font-weight:bold'>max_experiments</font></td><td>100</td></tr></table>"
      }
     },
     "de14899f76364c2981be792d05f1bb99": {
      "model_module": "@jupyter-widgets/controls",
      "model_module_version": "1.5.0",
      "model_name": "DescriptionStyleModel",
      "state": {
       "description_width": ""
      }
     },
     "de2bc47961cb4e53aebe6a2688bc0b55": {
      "model_module": "@jupyter-widgets/controls",
      "model_module_version": "1.5.0",
      "model_name": "HTMLModel",
      "state": {
       "layout": "IPY_MODEL_2a574a4a3c1e4ce3900bbff6daddc87a",
       "style": "IPY_MODEL_07bee5ab3fb64e749b26e682f4029a8a",
       "value": "<h1 style='color:#ffffff;background-color:#000000;padding-top: 1%;padding-bottom: 1%;padding-left: 1%; margin-top: 0px'>ibmq_lima</h1>"
      }
     },
     "de90fec843e84960b31896a7ff0abe49": {
      "model_module": "@jupyter-widgets/controls",
      "model_module_version": "1.5.0",
      "model_name": "ButtonModel",
      "state": {
       "button_style": "primary",
       "description": "Clear",
       "layout": "IPY_MODEL_1049f601ee0d4707af896ca5df39f8bc",
       "style": "IPY_MODEL_1192bfcecb714a87ba76fa8b95686f2c"
      }
     },
     "df1e1f45f61b4c6093cf575f3e5fc1d4": {
      "model_module": "@jupyter-widgets/output",
      "model_module_version": "1.0.0",
      "model_name": "OutputModel",
      "state": {
       "layout": "IPY_MODEL_6047095088a3433c9ab512530bb19864",
       "outputs": [
        {
         "data": {
          "image/png": "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\n",
          "text/plain": "<Figure size 792x648 with 5 Axes>"
         },
         "metadata": {},
         "output_type": "display_data"
        }
       ]
      }
     },
     "e12253548ec540d687922290455eae97": {
      "model_module": "@jupyter-widgets/controls",
      "model_module_version": "1.5.0",
      "model_name": "HTMLModel",
      "state": {
       "layout": "IPY_MODEL_1a119f00418a4925b235726c1b696730",
       "style": "IPY_MODEL_ba93fcee3a3649c8bd058c44cd350831",
       "value": "<div><font style='font-weight:bold'>last_update_date</font>: 2023-01-11 06:00:08+00:00</div>"
      }
     },
     "e297c2e221604e1bab382757d071ff50": {
      "model_module": "@jupyter-widgets/base",
      "model_module_version": "1.2.0",
      "model_name": "LayoutModel",
      "state": {
       "grid_area": "right"
      }
     },
     "e42f0f1db6504f198d531cfbd36dc545": {
      "model_module": "@jupyter-widgets/controls",
      "model_module_version": "1.5.0",
      "model_name": "DescriptionStyleModel",
      "state": {
       "description_width": ""
      }
     },
     "e7c51786a38647c3a41f8be6e70f94f9": {
      "model_module": "@jupyter-widgets/controls",
      "model_module_version": "1.5.0",
      "model_name": "DescriptionStyleModel",
      "state": {
       "description_width": ""
      }
     },
     "e7cb7a56752c408988691cea41cac5e1": {
      "model_module": "@jupyter-widgets/controls",
      "model_module_version": "1.5.0",
      "model_name": "GridBoxModel",
      "state": {
       "children": [
        "IPY_MODEL_fce42f0e1d6a46ffb2f006f2e1e84147",
        "IPY_MODEL_17d9db987e5945b188fa33246859a205",
        "IPY_MODEL_40182b5dd9b54f4486b0609285b4510d"
       ],
       "layout": "IPY_MODEL_b25d6020cbc5473e845e220113d6f329"
      }
     },
     "e9c7eb34d9ec44c1b9083226bedb7ac4": {
      "model_module": "@jupyter-widgets/controls",
      "model_module_version": "1.5.0",
      "model_name": "DescriptionStyleModel",
      "state": {
       "description_width": ""
      }
     },
     "ebb8a3a43f59431f9f4900bf97a0f9bc": {
      "model_module": "@jupyter-widgets/output",
      "model_module_version": "1.0.0",
      "model_name": "OutputModel",
      "state": {
       "layout": "IPY_MODEL_7d181e7a4a3f44459946eae14a878f1a",
       "outputs": [
        {
         "data": {
          "image/png": "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\n",
          "text/plain": "<Figure size 396x396 with 1 Axes>"
         },
         "metadata": {},
         "output_type": "display_data"
        }
       ]
      }
     },
     "ec11d01e80984f608895850498a9acf4": {
      "model_module": "@jupyter-widgets/base",
      "model_module_version": "1.2.0",
      "model_name": "LayoutModel",
      "state": {
       "align_items": "center",
       "display": "flex-inline",
       "grid_area": "right",
       "max_height": "325px",
       "padding": "10px 10px 10px 10px",
       "width": "auto"
      }
     },
     "ec898d049e04454b93a68a30e4f297d2": {
      "model_module": "@jupyter-widgets/output",
      "model_module_version": "1.0.0",
      "model_name": "OutputModel",
      "state": {
       "layout": "IPY_MODEL_46dc4d634d714469afaeefb8e8bd1d26",
       "outputs": [
        {
         "data": {
          "image/png": "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\n",
          "text/plain": "<Figure size 396x396 with 1 Axes>"
         },
         "metadata": {},
         "output_type": "display_data"
        }
       ]
      }
     },
     "ef5abfe23f0d492cbff29227382e3f68": {
      "model_module": "@jupyter-widgets/base",
      "model_module_version": "1.2.0",
      "model_name": "LayoutModel",
      "state": {
       "width": "70px"
      }
     },
     "f387ea511df74d01a4867022eaea392e": {
      "model_module": "@jupyter-widgets/base",
      "model_module_version": "1.2.0",
      "model_name": "LayoutModel",
      "state": {
       "overflow_x": "scroll"
      }
     },
     "f649dd599857492ab5d92fdc7144d690": {
      "model_module": "@jupyter-widgets/base",
      "model_module_version": "1.2.0",
      "model_name": "LayoutModel",
      "state": {
       "grid_gap": "0px 0px",
       "grid_template_areas": "\n                                                   \"top top top\"\n                                                   \"left middle right\"\n                                                   ",
       "grid_template_columns": "33% 33% 33%",
       "grid_template_rows": "auto auto"
      }
     },
     "f6e8d33c7ec54f289133fac67d3e4337": {
      "model_module": "@jupyter-widgets/base",
      "model_module_version": "1.2.0",
      "model_name": "LayoutModel",
      "state": {
       "max_height": "620px"
      }
     },
     "f70517e602fa497998198a949fcedf91": {
      "model_module": "@jupyter-widgets/base",
      "model_module_version": "1.2.0",
      "model_name": "LayoutModel",
      "state": {
       "overflow_y": "scroll"
      }
     },
     "f7c2aa4769914be5a4319dd942540568": {
      "model_module": "@jupyter-widgets/controls",
      "model_module_version": "1.5.0",
      "model_name": "HTMLModel",
      "state": {
       "layout": "IPY_MODEL_039fc6aa596f49aeb5c367209ce0df00",
       "style": "IPY_MODEL_ad4e3d97b2524e028dcd3c92c6d6f3be",
       "value": "<div><font style='font-weight:bold'>last_update_date</font>: 2023-01-11 06:00:08+00:00</div>"
      }
     },
     "f8166caf05da480b84a917b5adec27e8": {
      "model_module": "@jupyter-widgets/output",
      "model_module_version": "1.0.0",
      "model_name": "OutputModel",
      "state": {
       "layout": "IPY_MODEL_8483689899914d15a71f6a17178a0aa0",
       "outputs": [
        {
         "data": {
          "image/png": "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\n",
          "text/plain": "<Figure size 360x360 with 1 Axes>"
         },
         "metadata": {},
         "output_type": "display_data"
        }
       ]
      }
     },
     "f89b0d817f024ee99c3d525c687eadb2": {
      "model_module": "@jupyter-widgets/controls",
      "model_module_version": "1.5.0",
      "model_name": "DescriptionStyleModel",
      "state": {
       "description_width": ""
      }
     },
     "f9e3b4a432b541ba919da26d6baab909": {
      "model_module": "@jupyter-widgets/controls",
      "model_module_version": "1.5.0",
      "model_name": "DescriptionStyleModel",
      "state": {
       "description_width": ""
      }
     },
     "fb0616994e7a48d8b863e0480e9a2783": {
      "model_module": "@jupyter-widgets/controls",
      "model_module_version": "1.5.0",
      "model_name": "HTMLModel",
      "state": {
       "layout": "IPY_MODEL_7bb7f9f03de84d57baa1d8b9f459c400",
       "style": "IPY_MODEL_3bfedf5735be47afb77519f91dec4541",
       "value": "<h1 style='color:#ffffff;background-color:#000000;padding-top: 1%;padding-bottom: 1%;padding-left: 1%; margin-top: 0px'>ibmq_lima</h1>"
      }
     },
     "fbeba164d7a04c24a6aa560bdc341808": {
      "model_module": "@jupyter-widgets/base",
      "model_module_version": "1.2.0",
      "model_name": "LayoutModel",
      "state": {
       "margin": "0px 5px 0px 0px",
       "width": "32px"
      }
     },
     "fc600885802f4fe88eb342267032e167": {
      "model_module": "@jupyter-widgets/controls",
      "model_module_version": "1.5.0",
      "model_name": "HTMLModel",
      "state": {
       "layout": "IPY_MODEL_a38e433fb2f14ee2ad26eda6b9021f70",
       "style": "IPY_MODEL_193461de3f6a4089b5b7a15133aca692",
       "value": "<table><style>\ntable {\n    border-collapse: collapse;\n    width: auto;\n}\n\nth, td {\n    text-align: left;\n    padding: 8px;\n}\n\ntr:nth-child(even) {background-color: #f6f6f6;};\n</style><tr><th></th><th>Type</th><th>Gate error</th></tr><tr><td><font style='font-weight:bold'>cx1_0</font></td><td>cx</td><td>0.00789</td></tr><tr><td><font style='font-weight:bold'>cx3_1</font></td><td>cx</td><td>0.01365</td></tr><tr><td><font style='font-weight:bold'>cx1_3</font></td><td>cx</td><td>0.01365</td></tr></table>"
      }
     },
     "fce42f0e1d6a46ffb2f006f2e1e84147": {
      "model_module": "@jupyter-widgets/controls",
      "model_module_version": "1.5.0",
      "model_name": "HTMLMathModel",
      "state": {
       "layout": "IPY_MODEL_d4784f29aef5469cb47b02304c411c09",
       "style": "IPY_MODEL_62ad4ea1c397407d8979a1562a3350d0",
       "value": "<table><style>\ntable {\n    border-collapse: collapse;\n    width: auto;\n}\n\nth, td {\n    text-align: left;\n    padding: 8px;\n}\n\ntr:nth-child(even) {background-color: #f6f6f6;}\n</style><tr><th>Property</th><th>Value</th></tr><tr><td><font style='font-weight:bold'>n_qubits</font></td><td>5</td></tr><tr><td><font style='font-weight:bold'>quantum_volume</font></td><td>8</td></tr><tr><td><font style='font-weight:bold'>operational</font></td><td>True</td></tr><tr><td><font style='font-weight:bold'>status_msg</font></td><td>active</td></tr><tr><td><font style='font-weight:bold'>pending_jobs</font></td><td>0</td></tr><tr><td><font style='font-weight:bold'>backend_version</font></td><td>1.0.40</td></tr><tr><td><font style='font-weight:bold'>basis_gates</font></td><td>['id', 'rz', 'sx', 'x', 'cx', 'reset']</td></tr><tr><td><font style='font-weight:bold'>max_shots</font></td><td>20000</td></tr><tr><td><font style='font-weight:bold'>max_experiments</font></td><td>100</td></tr></table>"
      }
     },
     "fdf1d5572954401f997d82b2a12a3380": {
      "model_module": "@jupyter-widgets/base",
      "model_module_version": "1.2.0",
      "model_name": "LayoutModel",
      "state": {
       "margin": "0px 0px 0px 0px"
      }
     },
     "fe886e937ac244cfadfcf07606247d68": {
      "model_module": "@jupyter-widgets/base",
      "model_module_version": "1.2.0",
      "model_name": "LayoutModel",
      "state": {
       "max_height": "620px"
      }
     },
     "ffe1a77f3ec74eec9dd50ba5949df485": {
      "model_module": "@jupyter-widgets/controls",
      "model_module_version": "1.5.0",
      "model_name": "DescriptionStyleModel",
      "state": {
       "description_width": ""
      }
     }
    },
    "version_major": 2,
    "version_minor": 0
   }
  }
 },
 "nbformat": 4,
 "nbformat_minor": 4
}
